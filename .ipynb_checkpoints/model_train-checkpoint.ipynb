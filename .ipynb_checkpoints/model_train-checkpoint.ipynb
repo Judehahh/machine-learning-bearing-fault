{
 "cells": [
  {
   "cell_type": "code",
   "execution_count": 1,
   "metadata": {
    "ExecuteTime": {
     "end_time": "2022-05-24T08:39:54.427293Z",
     "start_time": "2022-05-24T08:39:52.546988Z"
    }
   },
   "outputs": [],
   "source": [
    "import os\n",
    "os.environ['TF_CPP_MIN_LOG_LEVEL'] = '2'\n",
    "import matplotlib.pyplot as plt\n",
    "from collections import Counter\n",
    "import numpy as np\n",
    "import tensorflow as tf\n",
    "import itertools\n",
    "from sklearn.metrics import confusion_matrix"
   ]
  },
  {
   "cell_type": "code",
   "execution_count": 2,
   "metadata": {
    "ExecuteTime": {
     "end_time": "2022-05-24T08:39:54.437108Z",
     "start_time": "2022-05-24T08:39:54.431302Z"
    }
   },
   "outputs": [],
   "source": [
    "def load_data():\n",
    "    # 读取数据\n",
    "    x = np.load('train_data/train_data.npy')\n",
    "    y = np.load('train_data/label.npy')\n",
    "    num = len(Counter(y))\n",
    "    print(\"类别数量为：\", num)\n",
    "    return x, y, num"
   ]
  },
  {
   "cell_type": "code",
   "execution_count": 3,
   "metadata": {
    "ExecuteTime": {
     "end_time": "2022-05-24T08:39:54.451943Z",
     "start_time": "2022-05-24T08:39:54.440444Z"
    }
   },
   "outputs": [],
   "source": [
    "def create_train_data(x, y, ratio=0.8):\n",
    "    \"\"\"\n",
    "    x:数据\n",
    "    y:类别\n",
    "    ratio:生成训练集比率\n",
    "    \"\"\"\n",
    "    # 打乱顺序\n",
    "    # 读取data矩阵的第一维数（图片的个数）\n",
    "    num_example = x.shape[0]\n",
    "    # 产生一个num_example范围，步长为1的序列\n",
    "    arr = np.arange(num_example)\n",
    "    # 调用函数，打乱顺序\n",
    "    np.random.seed(99)\n",
    "    np.random.shuffle(arr)\n",
    "    # 按照打乱的顺序，重新排序\n",
    "    arr_data = x[arr]\n",
    "    arr_label = y[arr]\n",
    "    # 默认将数据集分为训练集80%、测试集20%\n",
    "    s = int(num_example * ratio)\n",
    "    x_train = arr_data[:s]\n",
    "    y_train = arr_label[:s]\n",
    "    x_val = arr_data[s:]\n",
    "    y_val = arr_label[s:]\n",
    "    print(\"训练集shape\", x_train.shape)\n",
    "    print(\"训练集类别：\", Counter(y_train))\n",
    "    print(\"测试集shape\", x_val.shape)\n",
    "    print(\"测试集类别：\", Counter(y_val))\n",
    "    return x_train, y_train, x_val, y_val"
   ]
  },
  {
   "cell_type": "code",
   "execution_count": 15,
   "metadata": {},
   "outputs": [],
   "source": [
    "# 绘制混淆矩阵\n",
    "def plot_confusion_matrix(cm, classes, normalize=False, title='Confusion matrix', cmap=plt.cm.Purples):\n",
    "    \"\"\"\n",
    "    This function prints and plots the confusion matrix.\n",
    "    Normalization can be applied by setting `normalize=True`.\n",
    "    Input\n",
    "    - cm : 计算出的混淆矩阵的值\n",
    "    - classes : 混淆矩阵中每一行每一列对应的列\n",
    "    - normalize : True:显示百分比, False:显示个数\n",
    "    \"\"\"\n",
    "    if normalize:\n",
    "        cm = cm.astype('float') / cm.sum(axis=1)[:, np.newaxis]\n",
    "        print(\"Normalized confusion matrix\")\n",
    "    else:\n",
    "        print('Confusion matrix, without normalization')\n",
    "    print(cm)\n",
    "    plt.figure(dpi = 150)\n",
    "    plt.imshow(cm, interpolation='nearest', cmap=cmap)\n",
    "    plt.title(title)\n",
    "    plt.colorbar()\n",
    "    tick_marks = np.arange(len(classes))\n",
    "    plt.xticks(tick_marks, classes, rotation=45)\n",
    "    plt.yticks(tick_marks, classes)\n",
    "    fmt = '.2f' if normalize else 'd'\n",
    "    thresh = cm.max() / 2.\n",
    "    for i, j in itertools.product(range(cm.shape[0]), range(cm.shape[1])):\n",
    "        plt.text(j, i, format(cm[i, j], fmt),\n",
    "                 horizontalalignment=\"center\",\n",
    "                 color=\"white\" if cm[i, j] > thresh else \"black\")\n",
    "    plt.tight_layout()\n",
    "    plt.ylabel('真实类别')\n",
    "    plt.xlabel('预测类别')"
   ]
  },
  {
   "cell_type": "code",
   "execution_count": 4,
   "metadata": {
    "ExecuteTime": {
     "end_time": "2022-05-24T08:39:54.498056Z",
     "start_time": "2022-05-24T08:39:54.456434Z"
    },
    "scrolled": false
   },
   "outputs": [
    {
     "name": "stdout",
     "output_type": "stream",
     "text": [
      "类别数量为： 5\n",
      "训练集shape (1680, 2000, 3)\n",
      "训练集类别： Counter({1: 345, 4: 339, 2: 336, 3: 336, 0: 324})\n",
      "测试集shape (720, 2000, 3)\n",
      "测试集类别： Counter({0: 156, 2: 144, 3: 144, 4: 141, 1: 135})\n",
      "**********\n",
      "训练集数量： 1680\n",
      "测试集数量： 720\n"
     ]
    }
   ],
   "source": [
    "# 读取数据\n",
    "data, label, label_count = load_data()\n",
    "# 生成训练集测试集,70%用作训练，30%用作测试\n",
    "train_data, train_label, val_data, val_label = create_train_data(data, label, 0.7)\n",
    "print(\"*\"*10)\n",
    "print(\"训练集数量：\",len(train_label))\n",
    "print(\"测试集数量：\",len(val_label))"
   ]
  },
  {
   "cell_type": "markdown",
   "metadata": {},
   "source": [
    "# CNN"
   ]
  },
  {
   "cell_type": "code",
   "execution_count": 5,
   "metadata": {
    "ExecuteTime": {
     "end_time": "2022-05-24T08:41:54.020916Z",
     "start_time": "2022-05-24T08:41:53.970005Z"
    },
    "scrolled": true
   },
   "outputs": [
    {
     "name": "stdout",
     "output_type": "stream",
     "text": [
      "[PhysicalDevice(name='/physical_device:GPU:0', device_type='GPU')]\n"
     ]
    }
   ],
   "source": [
    "from tensorflow import keras\n",
    "from tensorflow.keras import layers, models\n",
    "import time\n",
    "# from layers.core import Dense, Dropout, Activation\n",
    "Dense = layers.Dense\n",
    "Dropout = layers.Dropout\n",
    "Activation = layers.Activation\n",
    "Conv1D = layers.Conv1D\n",
    "MaxPooling1D = layers.MaxPooling1D\n",
    "Flatten = layers.Flatten\n",
    "# 查看GPU是否可用\n",
    "print(tf.config.list_physical_devices('GPU'))"
   ]
  },
  {
   "cell_type": "code",
   "execution_count": 6,
   "metadata": {
    "ExecuteTime": {
     "end_time": "2022-05-24T08:41:54.083892Z",
     "start_time": "2022-05-24T08:41:54.079839Z"
    }
   },
   "outputs": [],
   "source": [
    "def cnn_create():\n",
    "    num_filters = 3\n",
    "    filter_size = 1\n",
    "    pool_size = 1\n",
    "\n",
    "    model = models.Sequential([\n",
    "      Conv1D(num_filters, filter_size, input_shape=(2000, 3)),\n",
    "      MaxPooling1D(pool_size=pool_size),\n",
    "      Flatten(),\n",
    "      Dense(128, activation='relu'),\n",
    "      Dense(label_count, activation='softmax'),\n",
    "    ])\n",
    "    \n",
    "    model.compile('adam',  loss='sparse_categorical_crossentropy',  metrics=['accuracy'],)\n",
    "    print(\"实例化模型成功，参数如下：\")\n",
    "    print(model.summary())\n",
    "    return model"
   ]
  },
  {
   "cell_type": "code",
   "execution_count": 7,
   "metadata": {
    "ExecuteTime": {
     "end_time": "2022-05-24T08:41:54.138102Z",
     "start_time": "2022-05-24T08:41:54.084903Z"
    },
    "scrolled": true
   },
   "outputs": [
    {
     "name": "stdout",
     "output_type": "stream",
     "text": [
      "实例化模型成功，参数如下：\n",
      "Model: \"sequential\"\n",
      "_________________________________________________________________\n",
      "Layer (type)                 Output Shape              Param #   \n",
      "=================================================================\n",
      "conv1d (Conv1D)              (None, 2000, 3)           12        \n",
      "_________________________________________________________________\n",
      "max_pooling1d (MaxPooling1D) (None, 2000, 3)           0         \n",
      "_________________________________________________________________\n",
      "flatten (Flatten)            (None, 6000)              0         \n",
      "_________________________________________________________________\n",
      "dense (Dense)                (None, 128)               768128    \n",
      "_________________________________________________________________\n",
      "dense_1 (Dense)              (None, 5)                 645       \n",
      "=================================================================\n",
      "Total params: 768,785\n",
      "Trainable params: 768,785\n",
      "Non-trainable params: 0\n",
      "_________________________________________________________________\n",
      "None\n"
     ]
    }
   ],
   "source": [
    "# 实例化模型\n",
    "cnn_model = cnn_create()\n",
    "\n",
    "# 设置模型log输出地址\n",
    "log_dir = os.path.join(\"logs/CNN\")\n",
    "if not os.path.exists(log_dir):\n",
    "    os.mkdir(log_dir)"
   ]
  },
  {
   "cell_type": "code",
   "execution_count": 8,
   "metadata": {
    "scrolled": true
   },
   "outputs": [
    {
     "name": "stdout",
     "output_type": "stream",
     "text": [
      "Train on 1344 samples, validate on 336 samples\n",
      "Epoch 1/20\n",
      "1344/1344 [==============================] - 2s 2ms/sample - loss: 2.0787 - accuracy: 0.2292 - val_loss: 1.6388 - val_accuracy: 0.2202\n",
      "Epoch 2/20\n",
      "1344/1344 [==============================] - 0s 272us/sample - loss: 1.6152 - accuracy: 0.2106 - val_loss: 1.6611 - val_accuracy: 0.1875\n",
      "Epoch 3/20\n",
      "1344/1344 [==============================] - 0s 282us/sample - loss: 1.6086 - accuracy: 0.2530 - val_loss: 1.5862 - val_accuracy: 0.1667\n",
      "Epoch 4/20\n",
      "1344/1344 [==============================] - 0s 282us/sample - loss: 1.5494 - accuracy: 0.2969 - val_loss: 1.5737 - val_accuracy: 0.3929\n",
      "Epoch 5/20\n",
      "1344/1344 [==============================] - 0s 279us/sample - loss: 1.5433 - accuracy: 0.2545 - val_loss: 1.6129 - val_accuracy: 0.1815\n",
      "Epoch 6/20\n",
      "1344/1344 [==============================] - 0s 279us/sample - loss: 1.5205 - accuracy: 0.2976 - val_loss: 1.4577 - val_accuracy: 0.2798\n",
      "Epoch 7/20\n",
      "1344/1344 [==============================] - 0s 272us/sample - loss: 1.4163 - accuracy: 0.3490 - val_loss: 1.3984 - val_accuracy: 0.5893\n",
      "Epoch 8/20\n",
      "1344/1344 [==============================] - 0s 273us/sample - loss: 1.3271 - accuracy: 0.4866 - val_loss: 1.3210 - val_accuracy: 0.3988\n",
      "Epoch 9/20\n",
      "1344/1344 [==============================] - 0s 288us/sample - loss: 1.2431 - accuracy: 0.4970 - val_loss: 1.2239 - val_accuracy: 0.4048\n",
      "Epoch 10/20\n",
      "1344/1344 [==============================] - 0s 268us/sample - loss: 1.1288 - accuracy: 0.5156 - val_loss: 1.1253 - val_accuracy: 0.4911\n",
      "Epoch 11/20\n",
      "1344/1344 [==============================] - 0s 284us/sample - loss: 1.0449 - accuracy: 0.5781 - val_loss: 1.0984 - val_accuracy: 0.4315\n",
      "Epoch 12/20\n",
      "1344/1344 [==============================] - 0s 261us/sample - loss: 0.9729 - accuracy: 0.6592 - val_loss: 1.0013 - val_accuracy: 0.4494\n",
      "Epoch 13/20\n",
      "1344/1344 [==============================] - 0s 280us/sample - loss: 0.9129 - accuracy: 0.6875 - val_loss: 0.9480 - val_accuracy: 0.6131\n",
      "Epoch 14/20\n",
      "1344/1344 [==============================] - 0s 307us/sample - loss: 0.8367 - accuracy: 0.7746 - val_loss: 0.8643 - val_accuracy: 0.7887\n",
      "Epoch 15/20\n",
      "1344/1344 [==============================] - 0s 346us/sample - loss: 0.7938 - accuracy: 0.7894 - val_loss: 0.7934 - val_accuracy: 0.8929\n",
      "Epoch 16/20\n",
      "1344/1344 [==============================] - 0s 270us/sample - loss: 0.7239 - accuracy: 0.8549 - val_loss: 0.7831 - val_accuracy: 0.8333\n",
      "Epoch 17/20\n",
      "1344/1344 [==============================] - 0s 281us/sample - loss: 0.6653 - accuracy: 0.9033 - val_loss: 0.7040 - val_accuracy: 0.7679\n",
      "Epoch 18/20\n",
      "1344/1344 [==============================] - 0s 291us/sample - loss: 0.5879 - accuracy: 0.9613 - val_loss: 0.6605 - val_accuracy: 0.7917\n",
      "Epoch 19/20\n",
      "1344/1344 [==============================] - 0s 271us/sample - loss: 0.5391 - accuracy: 0.9330 - val_loss: 0.5518 - val_accuracy: 0.9821\n",
      "Epoch 20/20\n",
      "1344/1344 [==============================] - 0s 271us/sample - loss: 0.4826 - accuracy: 0.9531 - val_loss: 0.4996 - val_accuracy: 0.9405\n"
     ]
    }
   ],
   "source": [
    "# 模型训练\n",
    "start = time.clock()\n",
    "tensorboard_callback = tf.keras.callbacks.TensorBoard(log_dir=log_dir, histogram_freq=1)\n",
    "history = cnn_model.fit(train_data, train_label,epochs=20, batch_size=32, validation_split=0.2,callbacks=[tensorboard_callback])"
   ]
  },
  {
   "cell_type": "code",
   "execution_count": 9,
   "metadata": {},
   "outputs": [
    {
     "name": "stdout",
     "output_type": "stream",
     "text": [
      "15.187465\n"
     ]
    }
   ],
   "source": [
    "print(time.clock() - start)"
   ]
  },
  {
   "cell_type": "code",
   "execution_count": 10,
   "metadata": {
    "ExecuteTime": {
     "end_time": "2022-05-24T08:42:10.147672Z",
     "start_time": "2022-05-24T08:42:09.931142Z"
    }
   },
   "outputs": [
    {
     "name": "stdout",
     "output_type": "stream",
     "text": [
      "*****完成预处理，进行模型评估*****\n"
     ]
    }
   ],
   "source": [
    "from sklearn.metrics import roc_curve,roc_auc_score,classification_report,accuracy_score,log_loss\n",
    "print(\"*****完成预处理，进行模型评估*****\")\n",
    "y_pred = cnn_model.predict(val_data)\n",
    "y_pred = [np.argmax(x) for x in y_pred]"
   ]
  },
  {
   "cell_type": "code",
   "execution_count": 11,
   "metadata": {
    "ExecuteTime": {
     "end_time": "2022-05-24T08:42:10.156626Z",
     "start_time": "2022-05-24T08:42:10.149028Z"
    },
    "scrolled": false
   },
   "outputs": [
    {
     "name": "stdout",
     "output_type": "stream",
     "text": [
      "------------------测试集上得分：------------------------\n",
      "*****\n",
      "测试集准确率得分: 0.955556\n",
      "*****\n",
      "准确率、召回率、f1-值测试报告如下:\n",
      "               precision    recall  f1-score   support\n",
      "\n",
      "           0       1.00      1.00      1.00       156\n",
      "           1       1.00      0.76      0.87       135\n",
      "           2       0.82      1.00      0.90       144\n",
      "           3       1.00      1.00      1.00       144\n",
      "           4       1.00      1.00      1.00       141\n",
      "\n",
      "    accuracy                           0.96       720\n",
      "   macro avg       0.96      0.95      0.95       720\n",
      "weighted avg       0.96      0.96      0.95       720\n",
      "\n"
     ]
    }
   ],
   "source": [
    "print('------------------测试集上得分：------------------------')\n",
    "print('*' * 5)\n",
    "print('测试集准确率得分:', round(accuracy_score(val_label, y_pred),6))\n",
    "print('*' * 5)\n",
    "print('准确率、召回率、f1-值测试报告如下:\\n', classification_report(val_label, y_pred))"
   ]
  },
  {
   "cell_type": "code",
   "execution_count": 12,
   "metadata": {
    "ExecuteTime": {
     "end_time": "2022-05-24T08:42:10.254369Z",
     "start_time": "2022-05-24T08:42:10.157824Z"
    },
    "scrolled": false
   },
   "outputs": [
    {
     "data": {
      "image/png": "[encoded data removed]",
      "text/plain": [
       "<Figure size 720x360 with 1 Axes>"
      ]
     },
     "metadata": {
      "needs_background": "light"
     },
     "output_type": "display_data"
    }
   ],
   "source": [
    "# 设置Y轴范围\n",
    "plt.figure(figsize=(10,5))\n",
    "plt.title(\"emd_relu\", fontsize=23)\n",
    "plt.tick_params(labelsize=23)\n",
    "plt.ylabel('准确率', fontsize=23)\n",
    "plt.xlabel('训练轮次', fontsize=23)\n",
    "plt.ylim(0,1)\n",
    "# 训练准确率曲线\n",
    "show_data1 = history.history['accuracy']\n",
    "# 测试准确率曲线\n",
    "show_data2 = history.history['val_accuracy']\n",
    "x_data = list(range(1,len(show_data1)+1))\n",
    "ln1, = plt.plot(x_data,show_data1,color='blue',linewidth=2.0,linestyle='--')\n",
    "ln2, = plt.plot(x_data,show_data2,color='red',linewidth=3.0,linestyle='-.')\n",
    "plt.legend(handles=[ln1,ln2],labels=['训练准确率','验证准确率'], fontsize=23)\n",
    "plt.show()"
   ]
  },
  {
   "cell_type": "code",
   "execution_count": 13,
   "metadata": {},
   "outputs": [],
   "source": [
    "\n"
   ]
  },
  {
   "cell_type": "code",
   "execution_count": 14,
   "metadata": {
    "scrolled": true
   },
   "outputs": [],
   "source": [
    "# import seaborn as sn\n",
    "# # df_cm = pd.DataFrame(conf_matrix.numpy(),\n",
    "# #                      index = [i for i in list(Attack2Index.keys())],\n",
    "# #                      columns = [i for i in list(Attack2Index.keys())])\n",
    "# plt.figure(figsize = (10,7))\n",
    "# sn.heatmap(cmt_sklearn, annot=True, cmap=\"BuPu\")"
   ]
  },
  {
   "cell_type": "code",
   "execution_count": 17,
   "metadata": {
    "scrolled": false
   },
   "outputs": [
    {
     "name": "stdout",
     "output_type": "stream",
     "text": [
      "Confusion matrix, without normalization\n",
      "[[156   0   0   0   0]\n",
      " [  0 103  32   0   0]\n",
      " [  0   0 144   0   0]\n",
      " [  0   0   0 144   0]\n",
      " [  0   0   0   0 141]]\n"
     ]
    },
    {
     "data": {
      "image/png": "[encoded data removed]",
      "text/plain": [
       "<Figure size 900x600 with 2 Axes>"
      ]
     },
     "metadata": {
      "needs_background": "light"
     },
     "output_type": "display_data"
    }
   ],
   "source": [
    "cmt_sklearn = confusion_matrix(val_label, y_pred)\n",
    "plot_confusion_matrix(cmt_sklearn, [\"标签0\", \"标签1\", \"标签2\", \"标签3\", \"标签4\"], title = \"emd_relu\")"
   ]
  },
  {
   "cell_type": "markdown",
   "metadata": {},
   "source": [
    "## CNN优化"
   ]
  },
  {
   "cell_type": "code",
   "execution_count": null,
   "metadata": {
    "ExecuteTime": {
     "end_time": "2022-05-24T08:42:09.929501Z",
     "start_time": "2022-05-24T08:41:54.139162Z"
    },
    "scrolled": true
   },
   "outputs": [],
   "source": [
    "# 模型训练\n",
    "times = []\n",
    "val_acc = []\n",
    "for i in range(1, 22):\n",
    "    sum = 0\n",
    "    print(\"i = \",i)\n",
    "    start_time = time.time()\n",
    "    cnn_model = cnn_create(i)\n",
    "#     for j in range(1, 11):\n",
    "    tensorboard_callback = tf.keras.callbacks.TensorBoard(histogram_freq=1)\n",
    "    history = cnn_model.fit(train_data, train_label,epochs=10, batch_size=128, validation_split=0.2,callbacks=[tensorboard_callback])\n",
    "    end_time = time.time()\n",
    "    times.append((end_time - start_time))\n",
    "#         sum += ((history.history['val_accuracy'])[0])\n",
    "#     val_acc.append(sum / 10)\n",
    "    val_acc.append((history.history['val_accuracy'])[0])\n",
    "    "
   ]
  },
  {
   "cell_type": "code",
   "execution_count": null,
   "metadata": {
    "scrolled": true
   },
   "outputs": [],
   "source": [
    "plt.figure(figsize=(10,5))\n",
    "# plt.ylim(0.85,0.95)\n",
    "# plt.gca().xaxis.set_major_locator(MaxNLocator(integer=True))\n",
    "# plt.gca().yaxis.set_major_locator(MaxNLocator(integer=True))\n",
    "plt.tick_params(labelsize=23)\n",
    "plt.plot(range(1, 22),val_acc,color=\"red\")\n",
    "plt.show()"
   ]
  },
  {
   "cell_type": "code",
   "execution_count": null,
   "metadata": {
    "scrolled": true
   },
   "outputs": [],
   "source": [
    "plt.figure(figsize=(10,5))\n",
    "# plt.ylim(0.25,0.4)\n",
    "# plt.gca().xaxis.set_major_locator(MaxNLocator(integer=True))\n",
    "plt.tick_params(labelsize=23)\n",
    "plt.plot(range(1, 22),times,color=\"b\")\n",
    "plt.show()"
   ]
  }
 ],
 "metadata": {
  "kernelspec": {
   "display_name": "Python 3",
   "language": "python",
   "name": "python3"
  },
  "language_info": {
   "codemirror_mode": {
    "name": "ipython",
    "version": 3
   },
   "file_extension": ".py",
   "mimetype": "text/x-python",
   "name": "python",
   "nbconvert_exporter": "python",
   "pygments_lexer": "ipython3",
   "version": "3.6.9"
  }
 },
 "nbformat": 4,
 "nbformat_minor": 5
}
