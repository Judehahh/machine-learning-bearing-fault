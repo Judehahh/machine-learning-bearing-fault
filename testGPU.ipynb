{
 "cells": [
  {
   "cell_type": "code",
   "execution_count": 1,
   "id": "a141b2cc",
   "metadata": {
    "ExecuteTime": {
     "end_time": "2022-05-22T06:27:31.491442Z",
     "start_time": "2022-05-22T06:27:29.977226Z"
    },
    "scrolled": true
   },
   "outputs": [
    {
     "name": "stdout",
     "output_type": "stream",
     "text": [
      "2.9.0\n",
      "['/home/ubuntu/miniconda3/envs/d2l/lib/python3.8/site-packages/keras/api/_v2', '/home/ubuntu/miniconda3/envs/d2l/lib/python3.8/site-packages/tensorflow_estimator/python/estimator/api/_v2', '/home/ubuntu/miniconda3/envs/d2l/lib/python3.8/site-packages/tensorboard/summary/_tf', '/home/ubuntu/miniconda3/envs/d2l/lib/python3.8/site-packages/tensorflow', '/home/ubuntu/miniconda3/envs/d2l/lib/python3.8/site-packages/tensorflow/_api/v2']\n",
      "WARNING:tensorflow:From /tmp/ipykernel_18669/3996820873.py:7: is_gpu_available (from tensorflow.python.framework.test_util) is deprecated and will be removed in a future version.\n",
      "Instructions for updating:\n",
      "Use `tf.config.list_physical_devices('GPU')` instead.\n",
      "True\n",
      "False\n",
      "Please install GPU version of TF\n"
     ]
    },
    {
     "name": "stderr",
     "output_type": "stream",
     "text": [
      "2022-05-22 14:27:31.376025: I tensorflow/core/platform/cpu_feature_guard.cc:193] This TensorFlow binary is optimized with oneAPI Deep Neural Network Library (oneDNN) to use the following CPU instructions in performance-critical operations:  AVX2 FMA\n",
      "To enable them in other operations, rebuild TensorFlow with the appropriate compiler flags.\n",
      "2022-05-22 14:27:31.407165: I tensorflow/stream_executor/cuda/cuda_gpu_executor.cc:975] successful NUMA node read from SysFS had negative value (-1), but there must be at least one NUMA node, so returning NUMA node zero\n",
      "2022-05-22 14:27:31.434817: W tensorflow/stream_executor/platform/default/dso_loader.cc:64] Could not load dynamic library 'libcudnn.so.8'; dlerror: libcudnn.so.8: cannot open shared object file: No such file or directory\n",
      "2022-05-22 14:27:31.434833: W tensorflow/core/common_runtime/gpu/gpu_device.cc:1850] Cannot dlopen some GPU libraries. Please make sure the missing libraries mentioned above are installed properly if you would like to use GPU. Follow the guide at https://www.tensorflow.org/install/gpu for how to download and setup the required libraries for your platform.\n",
      "Skipping registering GPU devices...\n",
      "2022-05-22 14:27:31.489485: I tensorflow/stream_executor/cuda/cuda_gpu_executor.cc:975] successful NUMA node read from SysFS had negative value (-1), but there must be at least one NUMA node, so returning NUMA node zero\n",
      "2022-05-22 14:27:31.489583: W tensorflow/core/common_runtime/gpu/gpu_device.cc:1850] Cannot dlopen some GPU libraries. Please make sure the missing libraries mentioned above are installed properly if you would like to use GPU. Follow the guide at https://www.tensorflow.org/install/gpu for how to download and setup the required libraries for your platform.\n",
      "Skipping registering GPU devices...\n"
     ]
    }
   ],
   "source": [
    "import tensorflow as tf\n",
    "\n",
    "print(tf.__version__)  # 查看tensorflow版本\n",
    "print(tf.__path__)     # 查看tensorflow安装路径\n",
    "\n",
    "a = tf.test.is_built_with_cuda()  # 判断CUDA是否可以用\n",
    "b = tf.test.is_gpu_available(\n",
    "    cuda_only=False,\n",
    "    min_cuda_compute_capability=None\n",
    ")  # 判断GPU是否可以用\n",
    "\n",
    "print(a) # 显示True表示CUDA可用\n",
    "print(b) # 显示True表示GPU可用\n",
    "\n",
    "# 查看驱动名称\n",
    "if tf.test.gpu_device_name():\n",
    "    print('Default GPU Device: {}'.format(tf.test.gpu_device_name()))\n",
    "else:\n",
    "    print(\"Please install GPU version of TF\")\n"
   ]
  },
  {
   "cell_type": "code",
   "execution_count": 2,
   "id": "1df1ad42",
   "metadata": {
    "ExecuteTime": {
     "end_time": "2022-05-22T06:27:31.497026Z",
     "start_time": "2022-05-22T06:27:31.492974Z"
    }
   },
   "outputs": [
    {
     "name": "stdout",
     "output_type": "stream",
     "text": [
      "False\n",
      "[] [PhysicalDevice(name='/physical_device:CPU:0', device_type='CPU')]\n"
     ]
    },
    {
     "name": "stderr",
     "output_type": "stream",
     "text": [
      "2022-05-22 14:27:31.494297: I tensorflow/stream_executor/cuda/cuda_gpu_executor.cc:975] successful NUMA node read from SysFS had negative value (-1), but there must be at least one NUMA node, so returning NUMA node zero\n",
      "2022-05-22 14:27:31.494403: W tensorflow/core/common_runtime/gpu/gpu_device.cc:1850] Cannot dlopen some GPU libraries. Please make sure the missing libraries mentioned above are installed properly if you would like to use GPU. Follow the guide at https://www.tensorflow.org/install/gpu for how to download and setup the required libraries for your platform.\n",
      "Skipping registering GPU devices...\n",
      "2022-05-22 14:27:31.494582: I tensorflow/stream_executor/cuda/cuda_gpu_executor.cc:975] successful NUMA node read from SysFS had negative value (-1), but there must be at least one NUMA node, so returning NUMA node zero\n",
      "2022-05-22 14:27:31.494660: W tensorflow/core/common_runtime/gpu/gpu_device.cc:1850] Cannot dlopen some GPU libraries. Please make sure the missing libraries mentioned above are installed properly if you would like to use GPU. Follow the guide at https://www.tensorflow.org/install/gpu for how to download and setup the required libraries for your platform.\n",
      "Skipping registering GPU devices...\n"
     ]
    }
   ],
   "source": [
    "import tensorflow as tf\n",
    "print(tf.test.is_gpu_available())\n",
    "gpus = tf.config.experimental.list_physical_devices(device_type='GPU')\n",
    "cpus = tf.config.experimental.list_physical_devices(device_type='CPU')\n",
    "print(gpus, cpus)"
   ]
  },
  {
   "cell_type": "code",
   "execution_count": 3,
   "id": "343eff9a",
   "metadata": {
    "ExecuteTime": {
     "end_time": "2022-05-22T06:27:31.508686Z",
     "start_time": "2022-05-22T06:27:31.498296Z"
    }
   },
   "outputs": [
    {
     "name": "stdout",
     "output_type": "stream",
     "text": [
      "[name: \"/device:CPU:0\"\n",
      "device_type: \"CPU\"\n",
      "memory_limit: 268435456\n",
      "locality {\n",
      "}\n",
      "incarnation: 3586396887833204191\n",
      "xla_global_id: -1\n",
      "]\n"
     ]
    },
    {
     "name": "stderr",
     "output_type": "stream",
     "text": [
      "2022-05-22 14:27:31.506672: I tensorflow/stream_executor/cuda/cuda_gpu_executor.cc:975] successful NUMA node read from SysFS had negative value (-1), but there must be at least one NUMA node, so returning NUMA node zero\n",
      "2022-05-22 14:27:31.506774: W tensorflow/core/common_runtime/gpu/gpu_device.cc:1850] Cannot dlopen some GPU libraries. Please make sure the missing libraries mentioned above are installed properly if you would like to use GPU. Follow the guide at https://www.tensorflow.org/install/gpu for how to download and setup the required libraries for your platform.\n",
      "Skipping registering GPU devices...\n"
     ]
    }
   ],
   "source": [
    "from tensorflow.python.client import device_lib\n",
    "print(device_lib.list_local_devices())"
   ]
  },
  {
   "cell_type": "code",
   "execution_count": 5,
   "id": "c045d1d7",
   "metadata": {
    "ExecuteTime": {
     "end_time": "2022-05-22T06:28:06.955351Z",
     "start_time": "2022-05-22T06:28:06.946229Z"
    }
   },
   "outputs": [
    {
     "name": "stdout",
     "output_type": "stream",
     "text": [
      "均方根值： 0.6905420050571786\n",
      "峰值指标： 0.9999996829318346\n",
      "峰值因子： 1.44813736978829\n",
      "峭度因子： -1.2120161480800533\n",
      "峰度因子： -0.40473328786551055\n",
      "方根幅度： 0.558373182856082\n",
      "裕度系数： 1.7909163864511377\n",
      "绝对平均值： 0.6157499783223684\n",
      "脉冲因子： 1.624035271030569\n",
      "波形指标： 1.1214649279218547\n",
      "方差为： 0.44319429967996615\n",
      "标准差为： 0.6657283978320033\n"
     ]
    }
   ],
   "source": [
    "import numpy as np\n",
    "from scipy import stats\n",
    "\n",
    "st = 0.01\n",
    "data = np.sin(np.array([st*i for i in range(1001)]))\n",
    "Xr = np.mean(np.sqrt(abs(data)))*np.mean(np.sqrt(abs(data)))\n",
    "Xmean = np.mean(abs(data))\n",
    "Xrms = np.sqrt(np.dot(data,data)/len(data))\n",
    "Xp = max(max(data), -min(data))\n",
    "\n",
    "print('均方根值：',Xrms)\n",
    "print('峰值指标：',Xp);\n",
    "print('峰值因子：',Xp/Xrms)\n",
    "print('峭度因子：',stats.kurtosis(data))\n",
    "print('峰度因子：',stats.skew(data))\n",
    "print('方根幅度：',Xr)\n",
    "print('裕度系数：',Xp/Xr)\n",
    "print('绝对平均值：',Xmean)\n",
    "print('脉冲因子：',Xp/np.mean(abs(data)))\n",
    "print('波形指标：',Xrms/Xmean)\n",
    "print('方差为：',np.var(data))\n",
    "print('标准差为：',np.std(data))"
   ]
  },
  {
   "cell_type": "code",
   "execution_count": 6,
   "id": "9225e78c",
   "metadata": {
    "ExecuteTime": {
     "end_time": "2022-05-22T09:44:48.071312Z",
     "start_time": "2022-05-22T09:44:47.982000Z"
    }
   },
   "outputs": [],
   "source": [
    "from sklearn.datasets import load_breast_cancer\n",
    "from sklearn.model_selection import train_test_split\n",
    "from sklearn.tree import DecisionTreeClassifier\n",
    "from sklearn.tree import export_graphviz\n",
    "import graphviz\n",
    "cancer=load_breast_cancer()\n",
    "X_train,X_test,y_train,y_test=train_test_split(\n",
    "    cancer.data,cancer.target,stratify=cancer.target,random_state=42)\n",
    "tree=DecisionTreeClassifier(class_weight='balanced',max_depth=2,random_state=0)\n",
    "tree.fit(X_train,y_train)\n",
    "\n",
    "export_graphviz(tree,out_file=\"tree.dot\",class_names=[\"malignant\",\"benign\"],\n",
    "                    feature_names=cancer.feature_names,impurity=False,filled=True)\n",
    "with open(\"tree.dot\") as f:\n",
    "    dot_graph=f.read()\n",
    "    graph=graphviz.Source(dot_graph)\n",
    "display(graph)"
   ]
  },
  {
   "cell_type": "code",
   "execution_count": 12,
   "id": "29115ee8",
   "metadata": {
    "ExecuteTime": {
     "end_time": "2022-05-22T10:45:08.063756Z",
     "start_time": "2022-05-22T10:45:08.058593Z"
    }
   },
   "outputs": [
    {
     "data": {
      "text/plain": [
       "<pydotplus.graphviz.Dot at 0x7ff9a4c24f70>"
      ]
     },
     "metadata": {},
     "output_type": "display_data"
    }
   ],
   "source": [
    "display(graph)"
   ]
  }
 ],
 "metadata": {
  "kernelspec": {
   "display_name": "Python 3 (ipykernel)",
   "language": "python",
   "name": "python3"
  },
  "language_info": {
   "codemirror_mode": {
    "name": "ipython",
    "version": 3
   },
   "file_extension": ".py",
   "mimetype": "text/x-python",
   "name": "python",
   "nbconvert_exporter": "python",
   "pygments_lexer": "ipython3",
   "version": "3.8.13"
  }
 },
 "nbformat": 4,
 "nbformat_minor": 5
}
