{
 "cells": [
  {
   "cell_type": "code",
   "execution_count": 1,
   "id": "06d7a4c9",
   "metadata": {
    "ExecuteTime": {
     "end_time": "2022-05-23T11:20:18.975652Z",
     "start_time": "2022-05-23T11:20:17.959766Z"
    }
   },
   "outputs": [],
   "source": [
    "from scipy.io import loadmat\n",
    "import matplotlib.pyplot as plt\n",
    "from sklearn.preprocessing import MinMaxScaler\n",
    "import numpy as np\n",
    "from collections import Counter\n",
    "from PyEMD import EEMD, EMD, Visualisation\n",
    "import math\n",
    "import pandas as pd"
   ]
  },
  {
   "cell_type": "code",
   "execution_count": 2,
   "id": "b68b2059",
   "metadata": {
    "ExecuteTime": {
     "end_time": "2022-05-23T11:20:18.979901Z",
     "start_time": "2022-05-23T11:20:18.977154Z"
    }
   },
   "outputs": [],
   "source": [
    "# 定义数据分布展示\n",
    "\n",
    "def show_plot(data,show_num):\n",
    "    data_list = []\n",
    "    for a in data[:show_num]:\n",
    "        data_list.append(a)#append函数会在数组后加上相应的元素\n",
    "    return data_list"
   ]
  },
  {
   "cell_type": "code",
   "execution_count": 3,
   "id": "9ec49d6b",
   "metadata": {
    "ExecuteTime": {
     "end_time": "2022-05-23T11:20:18.994909Z",
     "start_time": "2022-05-23T11:20:18.981227Z"
    }
   },
   "outputs": [],
   "source": [
    "# 定义样本分割函数\n",
    "def data_load(path,cut_num,shaft,label):\n",
    "    \"\"\"\n",
    "    path：数据地址\n",
    "    cut_num：每份样本数量\n",
    "    shaft：轴，0为输入轴，3为中间轴\n",
    "    label:数据标签\n",
    "    \"\"\"\n",
    "    \n",
    "    data = loadmat(path)\n",
    "    # 返回list\n",
    "    list_r = []\n",
    "    # 原始数据\n",
    "    data_X = data['data'][:,shaft]\n",
    "    data_X = data_X.reshape(len(data_X),1)\n",
    "    data_Y = data['data'][:,shaft+1]\n",
    "    data_Y = data_Y.reshape(len(data_Y),1)\n",
    "    data_Z = data['data'][:,shaft+2]\n",
    "    data_Z = data_Z.reshape(len(data_Z),1)\n",
    "    data_XYZ = np.sqrt(pow(data_X,2) + pow(data_Y,2) + pow(data_Z,2))\n",
    "\n",
    "    # 数据归一化\n",
    "    # 归一化X\n",
    "    scaler = MinMaxScaler()\n",
    "    list_X_n = scaler.fit_transform(data_X)\n",
    "    # 归一化Y\n",
    "    scaler = MinMaxScaler()\n",
    "    list_Y_n = scaler.fit_transform(data_Y)\n",
    "    # 归一化Z\n",
    "    scaler = MinMaxScaler()\n",
    "    list_Z_n = scaler.fit_transform(data_Z)\n",
    "    \n",
    "    # 构建一维数组\n",
    "    list_X = []\n",
    "    for x in list_X_n:\n",
    "        list_X.append(x[0])\n",
    "        \n",
    "    list_Y = []\n",
    "    for y in list_Y_n:\n",
    "        list_Y.append(y[0])\n",
    "\n",
    "    list_Z = []\n",
    "    for z in list_Z_n:\n",
    "        list_Z.append(z[0])\n",
    "        \n",
    "    # 将x，y, z数据放入list\n",
    "    for x,y,z in zip(list_X,list_Y,list_Z):\n",
    "        list_r.append([x,y,z])\n",
    "    \n",
    "    data_cut = []\n",
    "    label_cut = []\n",
    "    data_ret = []\n",
    "    \n",
    "    # 分割数据\n",
    "    for i in range(0,int(len(list_X_n)/cut_num)):\n",
    "        data_cut.append(list_r[i * cut_num : (i+1) * cut_num])\n",
    "        label_cut.append(label)\n",
    "    return data_cut,label_cut"
   ]
  },
  {
   "cell_type": "markdown",
   "id": "84780c85",
   "metadata": {},
   "source": [
    "# label0: 正常轴承"
   ]
  },
  {
   "cell_type": "code",
   "execution_count": 4,
   "id": "1d7bcb5c",
   "metadata": {
    "ExecuteTime": {
     "end_time": "2022-05-23T11:20:20.632250Z",
     "start_time": "2022-05-23T11:20:18.998526Z"
    }
   },
   "outputs": [],
   "source": [
    "data_0,label_0 = data_load('data/5-normal1-2000rpm-50Nm.mat',2000,0,0)"
   ]
  },
  {
   "cell_type": "code",
   "execution_count": 5,
   "id": "af69f9de",
   "metadata": {
    "ExecuteTime": {
     "end_time": "2022-05-23T11:20:20.906582Z",
     "start_time": "2022-05-23T11:20:20.633462Z"
    }
   },
   "outputs": [
    {
     "data": {
      "text/plain": [
       "(480, 2000, 3)"
      ]
     },
     "execution_count": 5,
     "metadata": {},
     "output_type": "execute_result"
    }
   ],
   "source": [
    "np.array(data_0).shape"
   ]
  },
  {
   "cell_type": "code",
   "execution_count": 6,
   "id": "6f2e6992",
   "metadata": {
    "ExecuteTime": {
     "end_time": "2022-05-23T11:20:21.129764Z",
     "start_time": "2022-05-23T11:20:20.907727Z"
    },
    "scrolled": true
   },
   "outputs": [
    {
     "name": "stdout",
     "output_type": "stream",
     "text": [
      "处理后内圈样本shape： (480, 2000, 3)\n",
      "label数： 480\n"
     ]
    }
   ],
   "source": [
    "print(\"处理后内圈样本shape：\",np.asarray(data_0,dtype = 'float').shape)\n",
    "print(\"label数：\",len(label_0))"
   ]
  },
  {
   "cell_type": "markdown",
   "id": "9df4d9e3",
   "metadata": {},
   "source": [
    "# label1: 输入轴减速器端轴承内滚道故障 2000rpm"
   ]
  },
  {
   "cell_type": "code",
   "execution_count": 7,
   "id": "a96cad0b",
   "metadata": {
    "ExecuteTime": {
     "end_time": "2022-05-23T11:20:22.689405Z",
     "start_time": "2022-05-23T11:20:21.130918Z"
    }
   },
   "outputs": [],
   "source": [
    "data_1,label_1 = data_load('data/1-bearingfault_JSQ1-2000rpm-50Nm.mat',2000,3,1)"
   ]
  },
  {
   "cell_type": "code",
   "execution_count": 8,
   "id": "a2747bc1",
   "metadata": {
    "ExecuteTime": {
     "end_time": "2022-05-23T11:20:22.911054Z",
     "start_time": "2022-05-23T11:20:22.690642Z"
    },
    "scrolled": true
   },
   "outputs": [
    {
     "name": "stdout",
     "output_type": "stream",
     "text": [
      "处理后内圈样本shape： (480, 2000, 3)\n",
      "label数： 480\n"
     ]
    }
   ],
   "source": [
    "print(\"处理后内圈样本shape：\",np.asarray(data_1,dtype = 'float').shape)\n",
    "print(\"label数：\",len(label_1))"
   ]
  },
  {
   "cell_type": "markdown",
   "id": "8ac5d55c",
   "metadata": {},
   "source": [
    "# label2: 输入轴电机端轴承内滚道故障 2000rpm"
   ]
  },
  {
   "cell_type": "code",
   "execution_count": 9,
   "id": "7c466de7",
   "metadata": {
    "ExecuteTime": {
     "end_time": "2022-05-23T11:20:24.369518Z",
     "start_time": "2022-05-23T11:20:22.912082Z"
    }
   },
   "outputs": [],
   "source": [
    "data_2,label_2 = data_load('data/2-bearingfault_DJ1-2000rpm-50Nm.mat',2000,6,2)"
   ]
  },
  {
   "cell_type": "code",
   "execution_count": 10,
   "id": "e77799b1",
   "metadata": {
    "ExecuteTime": {
     "end_time": "2022-05-23T11:20:24.561523Z",
     "start_time": "2022-05-23T11:20:24.371460Z"
    },
    "scrolled": true
   },
   "outputs": [
    {
     "name": "stdout",
     "output_type": "stream",
     "text": [
      "处理后内圈样本shape： (480, 2000, 3)\n",
      "label数： 480\n"
     ]
    }
   ],
   "source": [
    "print(\"处理后内圈样本shape：\",np.asarray(data_2,dtype = 'float').shape)\n",
    "print(\"label数：\",len(label_2))"
   ]
  },
  {
   "cell_type": "markdown",
   "id": "b3ed0ae8",
   "metadata": {},
   "source": [
    "# label3: 中间轴减速器端轴承滚子故障 2000rpm"
   ]
  },
  {
   "cell_type": "code",
   "execution_count": 11,
   "id": "a81d0d62",
   "metadata": {
    "ExecuteTime": {
     "end_time": "2022-05-23T11:20:25.889771Z",
     "start_time": "2022-05-23T11:20:24.562594Z"
    }
   },
   "outputs": [],
   "source": [
    "data_3,label_3 = data_load('data/3-bearingfault_JSQ1-2000rpm-50Nm.mat',2000,0,3)"
   ]
  },
  {
   "cell_type": "code",
   "execution_count": 12,
   "id": "a39e0807",
   "metadata": {
    "ExecuteTime": {
     "end_time": "2022-05-23T11:20:26.092679Z",
     "start_time": "2022-05-23T11:20:25.891080Z"
    },
    "scrolled": true
   },
   "outputs": [
    {
     "name": "stdout",
     "output_type": "stream",
     "text": [
      "处理后内圈样本shape： (480, 2000, 3)\n",
      "label数： 480\n"
     ]
    }
   ],
   "source": [
    "print(\"处理后内圈样本shape：\",np.asarray(data_3,dtype = 'float').shape)\n",
    "print(\"label数：\",len(label_3))"
   ]
  },
  {
   "cell_type": "markdown",
   "id": "c633bdd2",
   "metadata": {},
   "source": [
    "# label4: 输入轴减速器端轴承保持架故障 2000rpm"
   ]
  },
  {
   "cell_type": "code",
   "execution_count": 13,
   "id": "6fbd3cad",
   "metadata": {
    "ExecuteTime": {
     "end_time": "2022-05-23T11:20:27.469209Z",
     "start_time": "2022-05-23T11:20:26.093930Z"
    }
   },
   "outputs": [],
   "source": [
    "data_4,label_4 = data_load('data/4-GF-BF1-2000rpm-50Nm.mat',2000,3,4)"
   ]
  },
  {
   "cell_type": "code",
   "execution_count": 14,
   "id": "78ab19b3",
   "metadata": {
    "ExecuteTime": {
     "end_time": "2022-05-23T11:20:27.662140Z",
     "start_time": "2022-05-23T11:20:27.470422Z"
    },
    "scrolled": true
   },
   "outputs": [
    {
     "name": "stdout",
     "output_type": "stream",
     "text": [
      "处理后内圈样本shape： (480, 2000, 3)\n",
      "label数： 480\n"
     ]
    }
   ],
   "source": [
    "print(\"处理后内圈样本shape：\",np.asarray(data_4,dtype = 'float').shape)\n",
    "print(\"label数：\",len(label_4))"
   ]
  },
  {
   "cell_type": "code",
   "execution_count": 15,
   "id": "3b31566a",
   "metadata": {
    "ExecuteTime": {
     "end_time": "2022-05-23T11:20:28.695780Z",
     "start_time": "2022-05-23T11:20:27.663449Z"
    }
   },
   "outputs": [
    {
     "name": "stdout",
     "output_type": "stream",
     "text": [
      "处理后样本shape： (2400, 2000, 3)\n",
      "处理后数据类别分布： Counter({0: 480, 1: 480, 2: 480, 3: 480, 4: 480})\n",
      "数据保存成功，位置：/train_data/\n"
     ]
    }
   ],
   "source": [
    "data_train = np.asarray(data_0[:] + data_1[:] + data_2[:] + data_3[:] + data_4[:],dtype = 'float64')\n",
    "label = np.asarray(label_0[:] + label_1[:] + label_2[:] + label_3[:] + label_4[:],dtype = 'int64')\n",
    "\n",
    "print(\"处理后样本shape：\",data_train.shape)\n",
    "print(\"处理后数据类别分布：\",Counter(label))\n",
    "\n",
    "# 保存数据\n",
    "np.save(\"train_data/train_data_2000.npy\",data_train)\n",
    "np.save(\"train_data/label_2000.npy\",label)\n",
    "print(\"数据保存成功，位置：/train_data/\")"
   ]
  }
 ],
 "metadata": {
  "kernelspec": {
   "display_name": "Python 3 (ipykernel)",
   "language": "python",
   "name": "python3"
  },
  "language_info": {
   "codemirror_mode": {
    "name": "ipython",
    "version": 3
   },
   "file_extension": ".py",
   "mimetype": "text/x-python",
   "name": "python",
   "nbconvert_exporter": "python",
   "pygments_lexer": "ipython3",
   "version": "3.8.13"
  }
 },
 "nbformat": 4,
 "nbformat_minor": 5
}
