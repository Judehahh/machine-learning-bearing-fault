{
 "cells": [
  {
   "cell_type": "code",
   "execution_count": 1,
   "id": "06d7a4c9",
   "metadata": {
    "ExecuteTime": {
     "end_time": "2022-05-23T12:08:24.325707Z",
     "start_time": "2022-05-23T12:08:23.396696Z"
    }
   },
   "outputs": [],
   "source": [
    "from scipy.io import loadmat\n",
    "import matplotlib.pyplot as plt\n",
    "from sklearn.preprocessing import MinMaxScaler\n",
    "import numpy as np\n",
    "from collections import Counter\n",
    "from PyEMD import EEMD, EMD, Visualisation\n",
    "import math\n",
    "import pandas as pd"
   ]
  },
  {
   "cell_type": "code",
   "execution_count": 2,
   "id": "b68b2059",
   "metadata": {
    "ExecuteTime": {
     "end_time": "2022-05-23T12:08:24.330353Z",
     "start_time": "2022-05-23T12:08:24.327231Z"
    }
   },
   "outputs": [],
   "source": [
    "# 定义数据分布展示\n",
    "\n",
    "def show_plot(data,show_num):\n",
    "    data_list = []\n",
    "    for a in data[:show_num]:\n",
    "        data_list.append(a)#append函数会在数组后加上相应的元素\n",
    "    return data_list"
   ]
  },
  {
   "cell_type": "code",
   "execution_count": 3,
   "id": "13c19818",
   "metadata": {
    "ExecuteTime": {
     "end_time": "2022-05-23T12:08:24.341497Z",
     "start_time": "2022-05-23T12:08:24.332117Z"
    }
   },
   "outputs": [],
   "source": [
    "# 计算无量纲特征量\n",
    "\n",
    "pstf_list=[]\n",
    "def  psfeatureTime(data):\n",
    "    #有量纲\n",
    "    #均值\n",
    "    df_mean = sum(data) / len(data)\n",
    "    #绝对均值\n",
    "    df_absmean = sum(abs(data)) / len(data)\n",
    "    #方根幅值\n",
    "    df_r = pow(np.mean(np.sqrt(abs(data))),2)\n",
    "    #均方根值\n",
    "    df_rms = np.sqrt(np.mean(pow(data,2)))\n",
    "    #峰值\n",
    "    df_max = max(abs(data))\n",
    "    #偏度值\n",
    "    df_alpha = np.mean(pow(data,3))\n",
    "    #峭度值\n",
    "    df_beta = np.mean(pow(data,4))\n",
    "\n",
    "    #无量纲\n",
    "    #峰值因子\n",
    "    df_cf = df_max/df_rms\n",
    "    #脉冲因子\n",
    "    df_if = df_max/df_absmean\n",
    "    #裕度因子\n",
    "    df_clf = df_max/df_r\n",
    "    #波形因子\n",
    "    df_sf = df_rms/df_absmean\n",
    "    #偏度因子\n",
    "    df_k3 = df_alpha/pow(df_rms,3)\n",
    "    #峭度因子\n",
    "    df_k4 = df_beta/pow(df_rms,4)\n",
    "    \n",
    "    return df_cf,df_if,df_clf,df_sf,df_k3,df_k4"
   ]
  },
  {
   "cell_type": "code",
   "execution_count": 4,
   "id": "9ec49d6b",
   "metadata": {
    "ExecuteTime": {
     "end_time": "2022-05-23T12:08:24.353548Z",
     "start_time": "2022-05-23T12:08:24.342771Z"
    }
   },
   "outputs": [],
   "source": [
    "# 定义样本分割函数\n",
    "def data_load(path,cut_num,shaft,label):\n",
    "    \"\"\"\n",
    "    path：数据地址\n",
    "    cut_num：每份样本数量\n",
    "    shaft：轴，0为输入轴，3为中间轴\n",
    "    label:数据标签\n",
    "    \"\"\"\n",
    "    \n",
    "    data = loadmat(path)\n",
    "    # 返回list\n",
    "    list_r = []\n",
    "    # 原始数据\n",
    "    data_X = data['data'][:,shaft]\n",
    "    data_X = data_X.reshape(len(data_X),1)\n",
    "    data_Y = data['data'][:,shaft+1]\n",
    "    data_Y = data_Y.reshape(len(data_Y),1)\n",
    "    data_Z = data['data'][:,shaft+2]\n",
    "    data_Z = data_Z.reshape(len(data_Z),1)\n",
    "    data_XYZ = np.sqrt(pow(data_X,2) + pow(data_Y,2) + pow(data_Z,2))\n",
    "\n",
    "    # 数据归一化\n",
    "    # 归一化X\n",
    "    scaler = MinMaxScaler()\n",
    "    list_X_n = scaler.fit_transform(data_X)\n",
    "    # 归一化Y\n",
    "    scaler = MinMaxScaler()\n",
    "    list_Y_n = scaler.fit_transform(data_Y)\n",
    "    # 归一化Z\n",
    "    scaler = MinMaxScaler()\n",
    "    list_Z_n = scaler.fit_transform(data_Z)\n",
    "    \n",
    "    # 构建一维数组\n",
    "    list_X = []\n",
    "    for x in list_X_n:\n",
    "        list_X.append(x[0])\n",
    "        \n",
    "    list_Y = []\n",
    "    for y in list_Y_n:\n",
    "        list_Y.append(y[0])\n",
    "\n",
    "    list_Z = []\n",
    "    for z in list_Z_n:\n",
    "        list_Z.append(z[0])\n",
    "        \n",
    "    # 将x，y, z数据放入list\n",
    "    for x,y,z in zip(list_X,list_Y,list_Z):\n",
    "        list_r.append([x,y,z])\n",
    "    \n",
    "    data_cut = []\n",
    "    label_cut = []\n",
    "    characteristic_X = []\n",
    "    characteristic_Y = []\n",
    "    characteristic_Z = []\n",
    "    data_ret = []\n",
    "    \n",
    "    # 分割数据\n",
    "    for i in range(0,int(len(list_X_n)/cut_num)):\n",
    "        data_cut.append(list_r[i * cut_num : (i+1) * cut_num])\n",
    "        label_cut.append(label)\n",
    "#     return data_cut,label_cut\n",
    "\n",
    "    # emd\n",
    "    emd = EMD()\n",
    "    for i in range(0,len(data_cut)):\n",
    "        list_tmp = []\n",
    "        emd.emd(np.asarray(data_cut,dtype = 'float')[i,:,0])\n",
    "        imfs, res = emd.get_imfs_and_residue()\n",
    "        for j in range(0,6):\n",
    "            values = psfeatureTime(imfs[j])\n",
    "            for k in range(0,6):\n",
    "                list_tmp.append(values[k])\n",
    "        characteristic_X.append(list_tmp)\n",
    "        \n",
    "    for i in range(0,len(data_cut)):\n",
    "        list_tmp = []\n",
    "        emd.emd(np.asarray(data_cut,dtype = 'float')[i,:,1])\n",
    "        imfs, res = emd.get_imfs_and_residue()\n",
    "        for j in range(0,6):\n",
    "            values = psfeatureTime(imfs[j])\n",
    "            for k in range(0,6):\n",
    "                list_tmp.append(values[k])\n",
    "        characteristic_Y.append(list_tmp)\n",
    "        \n",
    "    for i in range(0,len(data_cut)):\n",
    "        list_tmp = []\n",
    "        emd.emd(np.asarray(data_cut,dtype = 'float')[i,:,2])\n",
    "        imfs, res = emd.get_imfs_and_residue()\n",
    "        for j in range(0,6):\n",
    "            values = psfeatureTime(imfs[j])\n",
    "            for k in range(0,6):\n",
    "                list_tmp.append(values[k])\n",
    "        characteristic_Z.append(list_tmp)\n",
    "        \n",
    "    for x,y,z in zip(characteristic_X,characteristic_Y,characteristic_Z):\n",
    "        data_ret.append([x,y,z])\n",
    "    \n",
    "    return data_ret,label_cut"
   ]
  },
  {
   "cell_type": "markdown",
   "id": "84780c85",
   "metadata": {},
   "source": [
    "# label0: 正常轴承"
   ]
  },
  {
   "cell_type": "code",
   "execution_count": 5,
   "id": "1d7bcb5c",
   "metadata": {
    "ExecuteTime": {
     "end_time": "2022-05-23T12:14:08.261240Z",
     "start_time": "2022-05-23T12:08:24.356198Z"
    }
   },
   "outputs": [],
   "source": [
    "data_0,label_0 = data_load('data/5-normal1-2000rpm-50Nm.mat',2000,0,0)"
   ]
  },
  {
   "cell_type": "code",
   "execution_count": 6,
   "id": "6f2e6992",
   "metadata": {
    "ExecuteTime": {
     "end_time": "2022-05-23T12:14:08.272220Z",
     "start_time": "2022-05-23T12:14:08.264034Z"
    },
    "scrolled": true
   },
   "outputs": [
    {
     "name": "stdout",
     "output_type": "stream",
     "text": [
      "处理后内圈样本shape： (480, 3, 36)\n",
      "label数： 480\n"
     ]
    }
   ],
   "source": [
    "print(\"处理后内圈样本shape：\",np.asarray(data_0,dtype = 'float').shape)\n",
    "print(\"label数：\",len(label_0))"
   ]
  },
  {
   "cell_type": "markdown",
   "id": "9df4d9e3",
   "metadata": {},
   "source": [
    "# label1: 输入轴减速器端轴承内滚道故障 2000rpm"
   ]
  },
  {
   "cell_type": "code",
   "execution_count": 7,
   "id": "a96cad0b",
   "metadata": {
    "ExecuteTime": {
     "end_time": "2022-05-23T12:19:55.456599Z",
     "start_time": "2022-05-23T12:14:08.274024Z"
    }
   },
   "outputs": [],
   "source": [
    "data_1,label_1 = data_load('data/1-bearingfault_JSQ1-2000rpm-50Nm.mat',2000,3,1)"
   ]
  },
  {
   "cell_type": "code",
   "execution_count": 8,
   "id": "a2747bc1",
   "metadata": {
    "ExecuteTime": {
     "end_time": "2022-05-23T12:19:55.463513Z",
     "start_time": "2022-05-23T12:19:55.457882Z"
    },
    "scrolled": true
   },
   "outputs": [
    {
     "name": "stdout",
     "output_type": "stream",
     "text": [
      "处理后内圈样本shape： (480, 3, 36)\n",
      "label数： 480\n"
     ]
    }
   ],
   "source": [
    "print(\"处理后内圈样本shape：\",np.asarray(data_1,dtype = 'float').shape)\n",
    "print(\"label数：\",len(label_1))"
   ]
  },
  {
   "cell_type": "markdown",
   "id": "8ac5d55c",
   "metadata": {},
   "source": [
    "# label2: 输入轴电机端轴承内滚道故障 2000rpm"
   ]
  },
  {
   "cell_type": "code",
   "execution_count": 9,
   "id": "7c466de7",
   "metadata": {
    "ExecuteTime": {
     "end_time": "2022-05-23T12:26:22.930372Z",
     "start_time": "2022-05-23T12:19:55.464885Z"
    }
   },
   "outputs": [],
   "source": [
    "data_2,label_2 = data_load('data/2-bearingfault_DJ1-2000rpm-50Nm.mat',2000,6,2)"
   ]
  },
  {
   "cell_type": "code",
   "execution_count": 10,
   "id": "e77799b1",
   "metadata": {
    "ExecuteTime": {
     "end_time": "2022-05-23T12:26:22.937083Z",
     "start_time": "2022-05-23T12:26:22.931667Z"
    },
    "scrolled": true
   },
   "outputs": [
    {
     "name": "stdout",
     "output_type": "stream",
     "text": [
      "处理后内圈样本shape： (480, 3, 36)\n",
      "label数： 480\n"
     ]
    }
   ],
   "source": [
    "print(\"处理后内圈样本shape：\",np.asarray(data_2,dtype = 'float').shape)\n",
    "print(\"label数：\",len(label_2))"
   ]
  },
  {
   "cell_type": "markdown",
   "id": "b3ed0ae8",
   "metadata": {},
   "source": [
    "# label3: 中间轴减速器端轴承滚子故障 2000rpm"
   ]
  },
  {
   "cell_type": "code",
   "execution_count": 11,
   "id": "a81d0d62",
   "metadata": {
    "ExecuteTime": {
     "end_time": "2022-05-23T12:32:13.453668Z",
     "start_time": "2022-05-23T12:26:22.938761Z"
    }
   },
   "outputs": [],
   "source": [
    "data_3,label_3 = data_load('data/3-bearingfault_JSQ1-2000rpm-50Nm.mat',2000,0,3)"
   ]
  },
  {
   "cell_type": "code",
   "execution_count": 12,
   "id": "a39e0807",
   "metadata": {
    "ExecuteTime": {
     "end_time": "2022-05-23T12:32:13.459780Z",
     "start_time": "2022-05-23T12:32:13.454931Z"
    },
    "scrolled": true
   },
   "outputs": [
    {
     "name": "stdout",
     "output_type": "stream",
     "text": [
      "处理后内圈样本shape： (480, 3, 36)\n",
      "label数： 480\n"
     ]
    }
   ],
   "source": [
    "print(\"处理后内圈样本shape：\",np.asarray(data_3,dtype = 'float').shape)\n",
    "print(\"label数：\",len(label_3))"
   ]
  },
  {
   "cell_type": "markdown",
   "id": "c633bdd2",
   "metadata": {},
   "source": [
    "# label4: 输入轴减速器端轴承保持架故障 2000rpm"
   ]
  },
  {
   "cell_type": "code",
   "execution_count": 13,
   "id": "6fbd3cad",
   "metadata": {
    "ExecuteTime": {
     "end_time": "2022-05-23T12:38:05.547223Z",
     "start_time": "2022-05-23T12:32:13.461202Z"
    }
   },
   "outputs": [],
   "source": [
    "data_4,label_4 = data_load('data/4-GF-BF1-2000rpm-50Nm.mat',2000,3,4)"
   ]
  },
  {
   "cell_type": "code",
   "execution_count": 14,
   "id": "78ab19b3",
   "metadata": {
    "ExecuteTime": {
     "end_time": "2022-05-23T12:38:05.553510Z",
     "start_time": "2022-05-23T12:38:05.548813Z"
    },
    "scrolled": true
   },
   "outputs": [
    {
     "name": "stdout",
     "output_type": "stream",
     "text": [
      "处理后内圈样本shape： (480, 3, 36)\n",
      "label数： 480\n"
     ]
    }
   ],
   "source": [
    "print(\"处理后内圈样本shape：\",np.asarray(data_4,dtype = 'float').shape)\n",
    "print(\"label数：\",len(label_4))"
   ]
  },
  {
   "cell_type": "code",
   "execution_count": 22,
   "id": "3b31566a",
   "metadata": {
    "ExecuteTime": {
     "end_time": "2022-05-23T12:45:48.247993Z",
     "start_time": "2022-05-23T12:45:48.218535Z"
    },
    "scrolled": true
   },
   "outputs": [
    {
     "name": "stdout",
     "output_type": "stream",
     "text": [
      "处理后样本shape： (2400, 36, 3)\n",
      "处理后数据类别分布： Counter({0: 480, 1: 480, 2: 480, 3: 480, 4: 480})\n",
      "数据保存成功，位置：/train_data/\n"
     ]
    }
   ],
   "source": [
    "data_train = np.asarray(data_0[:] + data_1[:] + data_2[:] + data_3[:] + data_4[:],dtype = 'float64')\n",
    "data_train = data_train.transpose(0,2,1)\n",
    "label = np.asarray(label_0[:] + label_1[:] + label_2[:] + label_3[:] + label_4[:],dtype = 'int64')\n",
    "\n",
    "print(\"处理后样本shape：\",data_train.shape)\n",
    "print(\"处理后数据类别分布：\",Counter(label))\n",
    "\n",
    "# 保存数据\n",
    "np.save(\"train_data/train_data_2000_emd.npy\",data_train)\n",
    "np.save(\"train_data/label_2000_emd.npy\",label)\n",
    "print(\"数据保存成功，位置：/train_data/\")"
   ]
  },
  {
   "cell_type": "code",
   "execution_count": 2,
   "id": "c8b864f3",
   "metadata": {
    "ExecuteTime": {
     "end_time": "2022-05-24T07:27:35.019497Z",
     "start_time": "2022-05-24T07:27:34.911862Z"
    }
   },
   "outputs": [],
   "source": [
    "import numpy as np"
   ]
  },
  {
   "cell_type": "code",
   "execution_count": 6,
   "id": "118d3e9f",
   "metadata": {
    "ExecuteTime": {
     "end_time": "2022-05-24T07:30:11.708344Z",
     "start_time": "2022-05-24T07:30:11.699867Z"
    }
   },
   "outputs": [],
   "source": [
    "data_train = np.load('train_data/label_2000_emd.npy')"
   ]
  },
  {
   "cell_type": "code",
   "execution_count": 8,
   "id": "accd370a",
   "metadata": {
    "ExecuteTime": {
     "end_time": "2022-05-24T07:30:15.922144Z",
     "start_time": "2022-05-24T07:30:15.916208Z"
    }
   },
   "outputs": [
    {
     "data": {
      "text/plain": [
       "(2400,)"
      ]
     },
     "execution_count": 8,
     "metadata": {},
     "output_type": "execute_result"
    }
   ],
   "source": [
    "\n",
    "data_train.shape"
   ]
  }
 ],
 "metadata": {
  "kernelspec": {
   "display_name": "Python 3 (ipykernel)",
   "language": "python",
   "name": "python3"
  },
  "language_info": {
   "codemirror_mode": {
    "name": "ipython",
    "version": 3
   },
   "file_extension": ".py",
   "mimetype": "text/x-python",
   "name": "python",
   "nbconvert_exporter": "python",
   "pygments_lexer": "ipython3",
   "version": "3.8.13"
  }
 },
 "nbformat": 4,
 "nbformat_minor": 5
}
