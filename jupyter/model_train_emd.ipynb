{
 "cells": [
  {
   "cell_type": "code",
   "execution_count": 1,
   "id": "7444bb02",
   "metadata": {
    "ExecuteTime": {
     "end_time": "2022-04-14T06:47:52.577553Z",
     "start_time": "2022-04-14T06:47:51.171085Z"
    }
   },
   "outputs": [],
   "source": [
    "import os\n",
    "os.environ['TF_CPP_MIN_LOG_LEVEL'] = '2'\n",
    "import matplotlib.pyplot as plt\n",
    "from collections import Counter\n",
    "import numpy as np\n",
    "import tensorflow as tf"
   ]
  },
  {
   "cell_type": "code",
   "execution_count": 2,
   "id": "b6283d01",
   "metadata": {
    "ExecuteTime": {
     "end_time": "2022-04-14T06:47:52.582249Z",
     "start_time": "2022-04-14T06:47:52.579046Z"
    }
   },
   "outputs": [],
   "source": [
    "def load_data():\n",
    "    # 读取数据\n",
    "    x = np.load('train_data/train_data_emd.npy')\n",
    "    y = np.load('train_data/label_emd.npy')\n",
    "    num = len(Counter(y))\n",
    "    print(\"类别数量为：\", num)\n",
    "    return x, y, num"
   ]
  },
  {
   "cell_type": "code",
   "execution_count": 3,
   "id": "93132586",
   "metadata": {
    "ExecuteTime": {
     "end_time": "2022-04-14T06:47:52.595410Z",
     "start_time": "2022-04-14T06:47:52.583294Z"
    }
   },
   "outputs": [],
   "source": [
    "def create_train_data(x, y, ratio=0.8):\n",
    "    \"\"\"\n",
    "    x:数据\n",
    "    y:类别\n",
    "    ratio:生成训练集比率\n",
    "    \"\"\"\n",
    "    # 打乱顺序\n",
    "    # 读取data矩阵的第一维数（图片的个数）\n",
    "    num_example = x.shape[0]\n",
    "    # 产生一个num_example范围，步长为1的序列\n",
    "    arr = np.arange(num_example)\n",
    "    # 调用函数，打乱顺序\n",
    "    np.random.seed(99)\n",
    "    np.random.shuffle(arr)\n",
    "    # 按照打乱的顺序，重新排序\n",
    "    arr_data = x[arr]\n",
    "    arr_label = y[arr]\n",
    "    # 将数据集分为训练集80%、测试集20%\n",
    "    s = int(num_example * ratio)\n",
    "    x_train = arr_data[:s]\n",
    "    y_train = arr_label[:s]\n",
    "    x_val = arr_data[s:]\n",
    "    y_val = arr_label[s:]\n",
    "    print(\"训练集shape\", x_train.shape)\n",
    "    print(\"训练集类别：\", Counter(y_train))\n",
    "    print(\"测试集shape\", x_val.shape)\n",
    "    print(\"测试集类别：\", Counter(y_val))\n",
    "    return x_train, y_train, x_val, y_val"
   ]
  },
  {
   "cell_type": "code",
   "execution_count": 4,
   "id": "90ca68e6",
   "metadata": {
    "ExecuteTime": {
     "end_time": "2022-04-14T06:47:52.618334Z",
     "start_time": "2022-04-14T06:47:52.597003Z"
    },
    "scrolled": false
   },
   "outputs": [
    {
     "name": "stdout",
     "output_type": "stream",
     "text": [
      "类别数量为： 4\n",
      "训练集shape (2520, 1000, 1)\n",
      "训练集类别： Counter({0: 645, 2: 630, 1: 629, 3: 616})\n",
      "测试集shape (1080, 1000, 1)\n",
      "测试集类别： Counter({3: 284, 1: 271, 2: 270, 0: 255})\n",
      "**********\n",
      "训练集数量： 2520\n",
      "测试集数量： 1080\n"
     ]
    }
   ],
   "source": [
    "# 读取数据\n",
    "data, label, label_count = load_data()\n",
    "# 生成训练集测试集,70%用作训练，30%用作测试\n",
    "train_data, train_label, val_data, val_label = create_train_data(data, label, 0.7)\n",
    "print(\"*\"*10)\n",
    "print(\"训练集数量：\",len(train_label))\n",
    "print(\"测试集数量：\",len(val_label))"
   ]
  },
  {
   "cell_type": "markdown",
   "id": "712b2998",
   "metadata": {},
   "source": [
    "## 随机森林"
   ]
  },
  {
   "cell_type": "code",
   "execution_count": 5,
   "id": "c9f54f4c",
   "metadata": {
    "ExecuteTime": {
     "end_time": "2022-04-14T06:47:52.622556Z",
     "start_time": "2022-04-14T06:47:52.619343Z"
    }
   },
   "outputs": [],
   "source": [
    "# 使用机器学习算法需要对多维数据进行降维\n",
    "m_train = train_data.reshape(train_data.shape[0],train_data.shape[1]*train_data.shape[2])\n",
    "m_val = val_data.reshape(val_data.shape[0],val_data.shape[1]*val_data.shape[2])\n",
    "\n",
    "# 设置训练迭代次数\n",
    "epoch = 20"
   ]
  },
  {
   "cell_type": "code",
   "execution_count": 6,
   "id": "5f901037",
   "metadata": {
    "ExecuteTime": {
     "end_time": "2022-04-14T06:47:52.833856Z",
     "start_time": "2022-04-14T06:47:52.623730Z"
    }
   },
   "outputs": [],
   "source": [
    "from sklearn.ensemble import RandomForestClassifier\n",
    "from sklearn.metrics import roc_curve,roc_auc_score,classification_report,accuracy_score,log_loss\n",
    "from sklearn.model_selection import GridSearchCV,train_test_split\n",
    "from sklearn import model_selection\n",
    "from sklearn.preprocessing import  OneHotEncoder"
   ]
  },
  {
   "cell_type": "code",
   "execution_count": 7,
   "id": "6ab1b8ae",
   "metadata": {
    "ExecuteTime": {
     "end_time": "2022-04-14T06:48:42.035209Z",
     "start_time": "2022-04-14T06:47:52.836995Z"
    },
    "scrolled": false
   },
   "outputs": [
    {
     "name": "stdout",
     "output_type": "stream",
     "text": [
      "开始训练\n",
      "完成第 1 轮训练，测试集准确率： 0.691\n",
      "完成第 2 轮训练，测试集准确率： 0.681\n",
      "完成第 3 轮训练，测试集准确率： 0.69\n",
      "完成第 4 轮训练，测试集准确率： 0.696\n",
      "完成第 5 轮训练，测试集准确率： 0.688\n",
      "完成第 6 轮训练，测试集准确率： 0.678\n",
      "完成第 7 轮训练，测试集准确率： 0.683\n",
      "完成第 8 轮训练，测试集准确率： 0.684\n",
      "完成第 9 轮训练，测试集准确率： 0.709\n",
      "完成第 10 轮训练，测试集准确率： 0.683\n",
      "完成第 11 轮训练，测试集准确率： 0.692\n",
      "完成第 12 轮训练，测试集准确率： 0.695\n",
      "完成第 13 轮训练，测试集准确率： 0.688\n",
      "完成第 14 轮训练，测试集准确率： 0.682\n",
      "完成第 15 轮训练，测试集准确率： 0.696\n",
      "完成第 16 轮训练，测试集准确率： 0.697\n",
      "完成第 17 轮训练，测试集准确率： 0.677\n",
      "完成第 18 轮训练，测试集准确率： 0.688\n",
      "完成第 19 轮训练，测试集准确率： 0.67\n",
      "完成第 20 轮训练，测试集准确率： 0.689\n",
      "平均准确率： 0.68785\n"
     ]
    }
   ],
   "source": [
    "# 模型参数设置\n",
    "'''\n",
    "第一类：\n",
    "n_estimators：学习器的个数，interger，默认100\n",
    "bootstrap：是否有放回抽样，boolean，默认True\n",
    "第二类：\n",
    "max_features：节点分裂时参与判断的最大特征数，默认auto，即sqrt(n_features)\n",
    "max_depth：树的最大深度，int或None，默认None，表示对最大深度没有限制\n",
    "min_samples_split：最小样本划分的数目，\n",
    "min_samples_leaf：叶子节点最少样本数\n",
    "'''\n",
    "\n",
    "rfc = RandomForestClassifier(n_estimators = 100,min_samples_split = 5,min_samples_leaf = 4,max_depth = 5)\n",
    "\n",
    "# 模型准确率和损失值\n",
    "sum = 0\n",
    "acc_list = []\n",
    "loss_list = []\n",
    "train_acc_list = []\n",
    "print(\"开始训练\")\n",
    "for i in range(1,epoch +1):\n",
    "\n",
    "    # 模型训练\n",
    "    rfc.fit(m_train,train_label)\n",
    "\n",
    "    # # 训练集\n",
    "    # y_train = rfc.predict(m_train)\n",
    "\n",
    "    # 测试集\n",
    "    y_pred = np.asarray(rfc.predict(m_val),dtype = 'int64')\n",
    "\n",
    "    # 计算准确率\n",
    "    acc = round(accuracy_score(val_label, y_pred),3)\n",
    "    \n",
    "    # 训练集\n",
    "    y_pred = np.asarray(rfc.predict(m_train),dtype = 'int64')\n",
    "    # 计算准确率\n",
    "    train_acc = round(accuracy_score(train_label, y_pred),3)\n",
    "    \n",
    "    # print('测试集准确率:', round(accuracy_score(val_label, y_pred),3))\n",
    "    acc_list.append(acc)\n",
    "    train_acc_list.append(train_acc)\n",
    "    \n",
    "    # 计算损失值\n",
    "    # 使用one-hot编码计算损失值\n",
    "    noe_hot = OneHotEncoder(sparse = False)\n",
    "\n",
    "    y_pred_o = noe_hot.fit_transform(y_pred.reshape(1, -1))\n",
    "    val_label_o = noe_hot.fit_transform(val_label.reshape(1, -1))\n",
    "#     loss = round(log_loss(val_label_o,y_pred_o),3)\n",
    "    # print(\"loss：\",round(log_loss(val_label,y_pred),3))\n",
    "#     loss_list.append(loss)\n",
    "    print(\"完成第\",i,\"轮训练，测试集准确率：\",acc)\n",
    "    sum += acc\n",
    "print(\"平均准确率：\", sum / i)"
   ]
  },
  {
   "cell_type": "code",
   "execution_count": 8,
   "id": "3cb41199",
   "metadata": {
    "ExecuteTime": {
     "end_time": "2022-04-14T06:48:42.062505Z",
     "start_time": "2022-04-14T06:48:42.036617Z"
    },
    "scrolled": true
   },
   "outputs": [
    {
     "name": "stdout",
     "output_type": "stream",
     "text": [
      "------------------测试集上得分：------------------------\n",
      "*****\n",
      "测试集准确率得分: 0.689\n",
      "*****\n",
      "准确率、召回率、f1-值测试报告如下:\n",
      "               precision    recall  f1-score   support\n",
      "\n",
      "           0       0.89      0.81      0.85       255\n",
      "           1       0.52      0.42      0.47       271\n",
      "           2       0.51      0.61      0.56       270\n",
      "           3       0.84      0.91      0.87       284\n",
      "\n",
      "    accuracy                           0.69      1080\n",
      "   macro avg       0.69      0.69      0.69      1080\n",
      "weighted avg       0.69      0.69      0.69      1080\n",
      "\n"
     ]
    }
   ],
   "source": [
    "y_pred = np.asarray(rfc.predict(m_val),dtype = 'int64')\n",
    "print('------------------测试集上得分：------------------------')\n",
    "print('*' * 5)\n",
    "print('测试集准确率得分:', round(accuracy_score(val_label, y_pred),3))\n",
    "print('*' * 5)\n",
    "print('准确率、召回率、f1-值测试报告如下:\\n', classification_report(val_label, y_pred))"
   ]
  },
  {
   "cell_type": "markdown",
   "id": "cdb2197a",
   "metadata": {},
   "source": [
    "## 模型迭代准确率"
   ]
  },
  {
   "cell_type": "code",
   "execution_count": 9,
   "id": "0203139d",
   "metadata": {
    "ExecuteTime": {
     "end_time": "2022-04-14T06:48:42.188996Z",
     "start_time": "2022-04-14T06:48:42.063616Z"
    }
   },
   "outputs": [
    {
     "data": {
      "image/png": "[encoded data removed]",
      "text/plain": [
       "<Figure size 432x288 with 1 Axes>"
      ]
     },
     "metadata": {
      "needs_background": "light"
     },
     "output_type": "display_data"
    }
   ],
   "source": [
    "# 设置Y轴范围\n",
    "plt.ylim(0,1)\n",
    "# 训练准确率曲线\n",
    "show_data1 = train_acc_list\n",
    "# 测试准确率曲线\n",
    "show_data2 = acc_list\n",
    "x_data = list(range(1,len(show_data1)+1))\n",
    "ln1, = plt.plot(x_data,show_data1,color='blue',linewidth=2.0,linestyle='--')\n",
    "ln2, = plt.plot(x_data,show_data2,color='red',linewidth=3.0,linestyle='-.')\n",
    "plt.legend(handles=[ln1,ln2],labels=['train_acc','val_acc'])\n",
    "plt.show()"
   ]
  },
  {
   "cell_type": "code",
   "execution_count": 10,
   "id": "bd3adbab",
   "metadata": {
    "ExecuteTime": {
     "end_time": "2022-04-14T06:48:42.229870Z",
     "start_time": "2022-04-14T06:48:42.191292Z"
    }
   },
   "outputs": [
    {
     "data": {
      "text/plain": [
       "['models_save/rfc_emd.joblib']"
      ]
     },
     "execution_count": 10,
     "metadata": {},
     "output_type": "execute_result"
    }
   ],
   "source": [
    "from joblib import dump, load\n",
    "# 保存模型\n",
    "dump(rfc, 'models_save/rfc_emd.joblib') \n",
    "# # 加载\n",
    "# rfc = load('models_save/rfc.joblib')\n",
    "# print(rfc)"
   ]
  },
  {
   "cell_type": "markdown",
   "id": "daddfd4e",
   "metadata": {},
   "source": [
    "# CNN"
   ]
  },
  {
   "cell_type": "code",
   "execution_count": 11,
   "id": "11199c46",
   "metadata": {
    "ExecuteTime": {
     "end_time": "2022-04-14T06:48:42.660274Z",
     "start_time": "2022-04-14T06:48:42.231056Z"
    },
    "scrolled": true
   },
   "outputs": [
    {
     "name": "stdout",
     "output_type": "stream",
     "text": [
      "WARNING:tensorflow:From /tmp/ipykernel_27922/3421556830.py:4: is_gpu_available (from tensorflow.python.framework.test_util) is deprecated and will be removed in a future version.\n",
      "Instructions for updating:\n",
      "Use `tf.config.list_physical_devices('GPU')` instead.\n",
      "True\n"
     ]
    }
   ],
   "source": [
    "from tensorflow import keras\n",
    "from tensorflow.keras import layers, models\n",
    "# 查看GPU是否可用\n",
    "print(tf.test.is_gpu_available())"
   ]
  },
  {
   "cell_type": "code",
   "execution_count": 12,
   "id": "7bc3b63c",
   "metadata": {
    "ExecuteTime": {
     "end_time": "2022-04-14T06:48:42.665150Z",
     "start_time": "2022-04-14T06:48:42.661404Z"
    }
   },
   "outputs": [],
   "source": [
    "def cnn_create():\n",
    "    loss = 'sparse_categorical_crossentropy'\n",
    "    metrics = ['acc']\n",
    "    inputs = keras.Input(shape=(1000, 1))\n",
    "    x = layers.Conv1D(64, 3, activation='relu')(inputs)\n",
    "    x = layers.MaxPooling1D(16)(x)\n",
    "    # 全局平均池化GAP层\n",
    "    x = layers.GlobalAveragePooling1D()(x)\n",
    "    # 几个密集分类层\n",
    "    x = layers.Dense(32, activation='relu')(x)\n",
    "    # 退出层\n",
    "    x = layers.Dropout(0.5)(x)\n",
    "    outputs = layers.Dense(label_count, activation='softmax')(x)\n",
    "    model = keras.Model(inputs, outputs)\n",
    "    model.compile(optimizer=keras.optimizers.Adam(0.001),\n",
    "                  loss=loss,\n",
    "                  metrics=metrics)\n",
    "    print(\"实例化模型成功，参数如下：\")\n",
    "    print(model.summary())\n",
    "    return model"
   ]
  },
  {
   "cell_type": "code",
   "execution_count": 13,
   "id": "9d590845",
   "metadata": {
    "ExecuteTime": {
     "end_time": "2022-04-14T06:48:42.779519Z",
     "start_time": "2022-04-14T06:48:42.666198Z"
    },
    "scrolled": false
   },
   "outputs": [
    {
     "name": "stdout",
     "output_type": "stream",
     "text": [
      "实例化模型成功，参数如下：\n",
      "Model: \"functional_1\"\n",
      "_________________________________________________________________\n",
      "Layer (type)                 Output Shape              Param #   \n",
      "=================================================================\n",
      "input_1 (InputLayer)         [(None, 1000, 1)]         0         \n",
      "_________________________________________________________________\n",
      "conv1d (Conv1D)              (None, 998, 64)           256       \n",
      "_________________________________________________________________\n",
      "max_pooling1d (MaxPooling1D) (None, 62, 64)            0         \n",
      "_________________________________________________________________\n",
      "global_average_pooling1d (Gl (None, 64)                0         \n",
      "_________________________________________________________________\n",
      "dense (Dense)                (None, 32)                2080      \n",
      "_________________________________________________________________\n",
      "dropout (Dropout)            (None, 32)                0         \n",
      "_________________________________________________________________\n",
      "dense_1 (Dense)              (None, 4)                 132       \n",
      "=================================================================\n",
      "Total params: 2,468\n",
      "Trainable params: 2,468\n",
      "Non-trainable params: 0\n",
      "_________________________________________________________________\n",
      "None\n"
     ]
    }
   ],
   "source": [
    "# 实例化模型\n",
    "cnn_model = cnn_create()\n",
    "\n",
    "# 设置模型log输出地址\n",
    "log_dir = os.path.join(\"logs/CNN\")\n",
    "if not os.path.exists(log_dir):\n",
    "    os.mkdir(log_dir)"
   ]
  },
  {
   "cell_type": "code",
   "execution_count": 18,
   "id": "90e0319a",
   "metadata": {
    "ExecuteTime": {
     "end_time": "2022-04-14T07:08:48.451607Z",
     "start_time": "2022-04-14T07:07:31.842157Z"
    },
    "scrolled": true
   },
   "outputs": [
    {
     "name": "stdout",
     "output_type": "stream",
     "text": [
      "Epoch 1/240\n",
      " 1/71 [..............................] - ETA: 0s - loss: 0.5321 - acc: 0.6875WARNING:tensorflow:Callbacks method `on_train_batch_end` is slow compared to the batch time (batch time: 0.0026s vs `on_train_batch_end` time: 0.0140s). Check your callbacks.\n",
      "28/71 [==========>...................] - ETA: 0s - loss: 0.4980 - acc: 0.7578"
     ]
    },
    {
     "name": "stderr",
     "output_type": "stream",
     "text": [
      "2022-04-14 15:07:31.846273: E tensorflow/core/profiler/internal/gpu/cupti_tracer.cc:1441] function cupti_interface_->Subscribe( &subscriber_, (CUpti_CallbackFunc)ApiCallback, this)failed with error CUPTI_ERROR_NOT_INITIALIZED\n",
      "2022-04-14 15:07:31.898276: E tensorflow/core/profiler/internal/gpu/cupti_tracer.cc:1441] function cupti_interface_->Subscribe( &subscriber_, (CUpti_CallbackFunc)ApiCallback, this)failed with error CUPTI_ERROR_NOT_INITIALIZED\n"
     ]
    },
    {
     "name": "stdout",
     "output_type": "stream",
     "text": [
      "71/71 [==============================] - 0s 4ms/step - loss: 0.4949 - acc: 0.7623 - val_loss: 0.4057 - val_acc: 0.8175\n",
      "Epoch 2/240\n",
      "71/71 [==============================] - 0s 5ms/step - loss: 0.4928 - acc: 0.7751 - val_loss: 0.4022 - val_acc: 0.8135\n",
      "Epoch 3/240\n",
      "71/71 [==============================] - 0s 4ms/step - loss: 0.4992 - acc: 0.7482 - val_loss: 0.3998 - val_acc: 0.8690\n",
      "Epoch 4/240\n",
      "71/71 [==============================] - 0s 4ms/step - loss: 0.4949 - acc: 0.7522 - val_loss: 0.3969 - val_acc: 0.8651\n",
      "Epoch 5/240\n",
      "71/71 [==============================] - 0s 4ms/step - loss: 0.4825 - acc: 0.7659 - val_loss: 0.3933 - val_acc: 0.8730\n",
      "Epoch 6/240\n",
      "71/71 [==============================] - 0s 5ms/step - loss: 0.4803 - acc: 0.7672 - val_loss: 0.3940 - val_acc: 0.8571\n",
      "Epoch 7/240\n",
      "71/71 [==============================] - 0s 4ms/step - loss: 0.4780 - acc: 0.7694 - val_loss: 0.3922 - val_acc: 0.8373\n",
      "Epoch 8/240\n",
      "71/71 [==============================] - 0s 4ms/step - loss: 0.4734 - acc: 0.7716 - val_loss: 0.3847 - val_acc: 0.8333\n",
      "Epoch 9/240\n",
      "71/71 [==============================] - 0s 4ms/step - loss: 0.4758 - acc: 0.7712 - val_loss: 0.3802 - val_acc: 0.8730\n",
      "Epoch 10/240\n",
      "71/71 [==============================] - 0s 4ms/step - loss: 0.4660 - acc: 0.7716 - val_loss: 0.3763 - val_acc: 0.8413\n",
      "Epoch 11/240\n",
      "71/71 [==============================] - 0s 4ms/step - loss: 0.4671 - acc: 0.7857 - val_loss: 0.3794 - val_acc: 0.8175\n",
      "Epoch 12/240\n",
      "71/71 [==============================] - 0s 4ms/step - loss: 0.4642 - acc: 0.7641 - val_loss: 0.3695 - val_acc: 0.8770\n",
      "Epoch 13/240\n",
      "71/71 [==============================] - 0s 5ms/step - loss: 0.4555 - acc: 0.7800 - val_loss: 0.3685 - val_acc: 0.8413\n",
      "Epoch 14/240\n",
      "71/71 [==============================] - 0s 5ms/step - loss: 0.4516 - acc: 0.7817 - val_loss: 0.3707 - val_acc: 0.8095\n",
      "Epoch 15/240\n",
      "71/71 [==============================] - 0s 4ms/step - loss: 0.4525 - acc: 0.7897 - val_loss: 0.3678 - val_acc: 0.8571\n",
      "Epoch 16/240\n",
      "71/71 [==============================] - 0s 4ms/step - loss: 0.4545 - acc: 0.7884 - val_loss: 0.3599 - val_acc: 0.8651\n",
      "Epoch 17/240\n",
      "71/71 [==============================] - 0s 5ms/step - loss: 0.4409 - acc: 0.7813 - val_loss: 0.3650 - val_acc: 0.8095\n",
      "Epoch 18/240\n",
      "71/71 [==============================] - 0s 5ms/step - loss: 0.4471 - acc: 0.7840 - val_loss: 0.3851 - val_acc: 0.7738\n",
      "Epoch 19/240\n",
      "71/71 [==============================] - 0s 4ms/step - loss: 0.4434 - acc: 0.7725 - val_loss: 0.3603 - val_acc: 0.8413\n",
      "Epoch 20/240\n",
      "71/71 [==============================] - 0s 4ms/step - loss: 0.4340 - acc: 0.8020 - val_loss: 0.3888 - val_acc: 0.7579\n",
      "Epoch 21/240\n",
      "71/71 [==============================] - 0s 5ms/step - loss: 0.4379 - acc: 0.7945 - val_loss: 0.3521 - val_acc: 0.8452\n",
      "Epoch 22/240\n",
      "71/71 [==============================] - 0s 4ms/step - loss: 0.4365 - acc: 0.7941 - val_loss: 0.3441 - val_acc: 0.8571\n",
      "Epoch 23/240\n",
      "71/71 [==============================] - 0s 4ms/step - loss: 0.4351 - acc: 0.7910 - val_loss: 0.3711 - val_acc: 0.8413\n",
      "Epoch 24/240\n",
      "71/71 [==============================] - 0s 4ms/step - loss: 0.4381 - acc: 0.7879 - val_loss: 0.3498 - val_acc: 0.8333\n",
      "Epoch 25/240\n",
      "71/71 [==============================] - 0s 4ms/step - loss: 0.4231 - acc: 0.7959 - val_loss: 0.3504 - val_acc: 0.8690\n",
      "Epoch 26/240\n",
      "71/71 [==============================] - 0s 4ms/step - loss: 0.4261 - acc: 0.8003 - val_loss: 0.3503 - val_acc: 0.8413\n",
      "Epoch 27/240\n",
      "71/71 [==============================] - 0s 5ms/step - loss: 0.4224 - acc: 0.8073 - val_loss: 0.3350 - val_acc: 0.8810\n",
      "Epoch 28/240\n",
      "71/71 [==============================] - 0s 5ms/step - loss: 0.4174 - acc: 0.8073 - val_loss: 0.3337 - val_acc: 0.8889\n",
      "Epoch 29/240\n",
      "71/71 [==============================] - 0s 4ms/step - loss: 0.4142 - acc: 0.8126 - val_loss: 0.3628 - val_acc: 0.8254\n",
      "Epoch 30/240\n",
      "71/71 [==============================] - 0s 5ms/step - loss: 0.4151 - acc: 0.8254 - val_loss: 0.3337 - val_acc: 0.8651\n",
      "Epoch 31/240\n",
      "71/71 [==============================] - 0s 4ms/step - loss: 0.4191 - acc: 0.8175 - val_loss: 0.3369 - val_acc: 0.8452\n",
      "Epoch 32/240\n",
      "71/71 [==============================] - 0s 4ms/step - loss: 0.4129 - acc: 0.8078 - val_loss: 0.3316 - val_acc: 0.8690\n",
      "Epoch 33/240\n",
      "71/71 [==============================] - 0s 4ms/step - loss: 0.4207 - acc: 0.7981 - val_loss: 0.3318 - val_acc: 0.8651\n",
      "Epoch 34/240\n",
      "71/71 [==============================] - 0s 5ms/step - loss: 0.4017 - acc: 0.8034 - val_loss: 0.3238 - val_acc: 0.8810\n",
      "Epoch 35/240\n",
      "71/71 [==============================] - 0s 5ms/step - loss: 0.4042 - acc: 0.8131 - val_loss: 0.3214 - val_acc: 0.8730\n",
      "Epoch 36/240\n",
      "71/71 [==============================] - 0s 4ms/step - loss: 0.4013 - acc: 0.8223 - val_loss: 0.3425 - val_acc: 0.8056\n",
      "Epoch 37/240\n",
      "71/71 [==============================] - 0s 4ms/step - loss: 0.4079 - acc: 0.8078 - val_loss: 0.3338 - val_acc: 0.8254\n",
      "Epoch 38/240\n",
      "71/71 [==============================] - 0s 4ms/step - loss: 0.3949 - acc: 0.8170 - val_loss: 0.3213 - val_acc: 0.8810\n",
      "Epoch 39/240\n",
      "71/71 [==============================] - 0s 5ms/step - loss: 0.3962 - acc: 0.8131 - val_loss: 0.3188 - val_acc: 0.8889\n",
      "Epoch 40/240\n",
      "71/71 [==============================] - 0s 4ms/step - loss: 0.4113 - acc: 0.7945 - val_loss: 0.3169 - val_acc: 0.8849\n",
      "Epoch 41/240\n",
      "71/71 [==============================] - 0s 5ms/step - loss: 0.4017 - acc: 0.8126 - val_loss: 0.3327 - val_acc: 0.8254\n",
      "Epoch 42/240\n",
      "71/71 [==============================] - 0s 5ms/step - loss: 0.3988 - acc: 0.8166 - val_loss: 0.3197 - val_acc: 0.8690\n",
      "Epoch 43/240\n",
      "71/71 [==============================] - 0s 4ms/step - loss: 0.4021 - acc: 0.7967 - val_loss: 0.3158 - val_acc: 0.9048\n",
      "Epoch 44/240\n",
      "71/71 [==============================] - 0s 4ms/step - loss: 0.4060 - acc: 0.7945 - val_loss: 0.3308 - val_acc: 0.8214\n",
      "Epoch 45/240\n",
      "71/71 [==============================] - 0s 4ms/step - loss: 0.3901 - acc: 0.8219 - val_loss: 0.3111 - val_acc: 0.8770\n",
      "Epoch 46/240\n",
      "71/71 [==============================] - 0s 5ms/step - loss: 0.3856 - acc: 0.8166 - val_loss: 0.3140 - val_acc: 0.8810\n",
      "Epoch 47/240\n",
      "71/71 [==============================] - 0s 4ms/step - loss: 0.3779 - acc: 0.8205 - val_loss: 0.3146 - val_acc: 0.8690\n",
      "Epoch 48/240\n",
      "71/71 [==============================] - 0s 5ms/step - loss: 0.4035 - acc: 0.8183 - val_loss: 0.3158 - val_acc: 0.8651\n",
      "Epoch 49/240\n",
      "71/71 [==============================] - 0s 5ms/step - loss: 0.3918 - acc: 0.8122 - val_loss: 0.3153 - val_acc: 0.8571\n",
      "Epoch 50/240\n",
      "71/71 [==============================] - 0s 5ms/step - loss: 0.3933 - acc: 0.8144 - val_loss: 0.3089 - val_acc: 0.8730\n",
      "Epoch 51/240\n",
      "71/71 [==============================] - 0s 5ms/step - loss: 0.3854 - acc: 0.8086 - val_loss: 0.3159 - val_acc: 0.8770\n",
      "Epoch 52/240\n",
      "71/71 [==============================] - 0s 5ms/step - loss: 0.3888 - acc: 0.8179 - val_loss: 0.3096 - val_acc: 0.8611\n",
      "Epoch 53/240\n",
      "71/71 [==============================] - 0s 5ms/step - loss: 0.3884 - acc: 0.8078 - val_loss: 0.3076 - val_acc: 0.8770\n",
      "Epoch 54/240\n",
      "71/71 [==============================] - 0s 5ms/step - loss: 0.3909 - acc: 0.8192 - val_loss: 0.3024 - val_acc: 0.9087\n",
      "Epoch 55/240\n",
      "71/71 [==============================] - 0s 5ms/step - loss: 0.3735 - acc: 0.8250 - val_loss: 0.3042 - val_acc: 0.8770\n",
      "Epoch 56/240\n",
      "71/71 [==============================] - 0s 4ms/step - loss: 0.3841 - acc: 0.8276 - val_loss: 0.2978 - val_acc: 0.8968\n",
      "Epoch 57/240\n",
      "71/71 [==============================] - 0s 4ms/step - loss: 0.3768 - acc: 0.8241 - val_loss: 0.2981 - val_acc: 0.8968\n",
      "Epoch 58/240\n",
      "71/71 [==============================] - 0s 5ms/step - loss: 0.3693 - acc: 0.8267 - val_loss: 0.3102 - val_acc: 0.8532\n",
      "Epoch 59/240\n",
      "71/71 [==============================] - 0s 5ms/step - loss: 0.3738 - acc: 0.8245 - val_loss: 0.3011 - val_acc: 0.8929\n",
      "Epoch 60/240\n",
      "71/71 [==============================] - 0s 4ms/step - loss: 0.3757 - acc: 0.8280 - val_loss: 0.3025 - val_acc: 0.8770\n",
      "Epoch 61/240\n",
      "71/71 [==============================] - 0s 5ms/step - loss: 0.3671 - acc: 0.8285 - val_loss: 0.3037 - val_acc: 0.8611\n",
      "Epoch 62/240\n",
      "71/71 [==============================] - 0s 5ms/step - loss: 0.3718 - acc: 0.8228 - val_loss: 0.3016 - val_acc: 0.8770\n",
      "Epoch 63/240\n"
     ]
    },
    {
     "name": "stdout",
     "output_type": "stream",
     "text": [
      "71/71 [==============================] - 0s 4ms/step - loss: 0.3669 - acc: 0.8263 - val_loss: 0.3014 - val_acc: 0.8651\n",
      "Epoch 64/240\n",
      "71/71 [==============================] - 0s 4ms/step - loss: 0.3670 - acc: 0.8183 - val_loss: 0.2944 - val_acc: 0.8770\n",
      "Epoch 65/240\n",
      "71/71 [==============================] - 0s 5ms/step - loss: 0.3670 - acc: 0.8311 - val_loss: 0.2961 - val_acc: 0.8611\n",
      "Epoch 66/240\n",
      "71/71 [==============================] - 0s 4ms/step - loss: 0.3762 - acc: 0.8175 - val_loss: 0.2910 - val_acc: 0.9048\n",
      "Epoch 67/240\n",
      "71/71 [==============================] - 0s 4ms/step - loss: 0.3839 - acc: 0.8183 - val_loss: 0.3013 - val_acc: 0.8730\n",
      "Epoch 68/240\n",
      "71/71 [==============================] - 0s 4ms/step - loss: 0.3685 - acc: 0.8201 - val_loss: 0.2906 - val_acc: 0.8730\n",
      "Epoch 69/240\n",
      "71/71 [==============================] - 0s 4ms/step - loss: 0.3794 - acc: 0.8197 - val_loss: 0.3077 - val_acc: 0.8492\n",
      "Epoch 70/240\n",
      "71/71 [==============================] - 0s 5ms/step - loss: 0.3684 - acc: 0.8289 - val_loss: 0.2935 - val_acc: 0.8810\n",
      "Epoch 71/240\n",
      "71/71 [==============================] - 0s 4ms/step - loss: 0.3692 - acc: 0.8241 - val_loss: 0.2962 - val_acc: 0.8889\n",
      "Epoch 72/240\n",
      "71/71 [==============================] - 0s 4ms/step - loss: 0.3695 - acc: 0.8245 - val_loss: 0.2975 - val_acc: 0.8730\n",
      "Epoch 73/240\n",
      "71/71 [==============================] - 0s 4ms/step - loss: 0.3852 - acc: 0.8276 - val_loss: 0.3309 - val_acc: 0.8413\n",
      "Epoch 74/240\n",
      "71/71 [==============================] - 0s 4ms/step - loss: 0.3606 - acc: 0.8298 - val_loss: 0.2892 - val_acc: 0.9048\n",
      "Epoch 75/240\n",
      "71/71 [==============================] - 0s 5ms/step - loss: 0.3600 - acc: 0.8329 - val_loss: 0.2836 - val_acc: 0.8810\n",
      "Epoch 76/240\n",
      "71/71 [==============================] - 0s 4ms/step - loss: 0.3495 - acc: 0.8395 - val_loss: 0.3037 - val_acc: 0.8413\n",
      "Epoch 77/240\n",
      "71/71 [==============================] - 0s 4ms/step - loss: 0.3646 - acc: 0.8280 - val_loss: 0.2987 - val_acc: 0.8611\n",
      "Epoch 78/240\n",
      "71/71 [==============================] - 0s 4ms/step - loss: 0.3785 - acc: 0.8161 - val_loss: 0.2885 - val_acc: 0.8810\n",
      "Epoch 79/240\n",
      "71/71 [==============================] - 0s 5ms/step - loss: 0.3839 - acc: 0.8131 - val_loss: 0.3065 - val_acc: 0.8968\n",
      "Epoch 80/240\n",
      "71/71 [==============================] - 0s 4ms/step - loss: 0.3936 - acc: 0.8056 - val_loss: 0.3074 - val_acc: 0.8452\n",
      "Epoch 81/240\n",
      "71/71 [==============================] - 0s 4ms/step - loss: 0.3600 - acc: 0.8329 - val_loss: 0.2921 - val_acc: 0.8968\n",
      "Epoch 82/240\n",
      "71/71 [==============================] - 0s 4ms/step - loss: 0.3640 - acc: 0.8399 - val_loss: 0.2907 - val_acc: 0.8929\n",
      "Epoch 83/240\n",
      "71/71 [==============================] - 0s 5ms/step - loss: 0.3780 - acc: 0.8192 - val_loss: 0.3081 - val_acc: 0.8571\n",
      "Epoch 84/240\n",
      "71/71 [==============================] - 0s 5ms/step - loss: 0.3555 - acc: 0.8311 - val_loss: 0.2899 - val_acc: 0.8690\n",
      "Epoch 85/240\n",
      "71/71 [==============================] - 0s 5ms/step - loss: 0.3565 - acc: 0.8258 - val_loss: 0.3167 - val_acc: 0.8214\n",
      "Epoch 86/240\n",
      "71/71 [==============================] - 0s 5ms/step - loss: 0.3571 - acc: 0.8267 - val_loss: 0.2837 - val_acc: 0.8849\n",
      "Epoch 87/240\n",
      "71/71 [==============================] - 0s 4ms/step - loss: 0.3557 - acc: 0.8373 - val_loss: 0.2825 - val_acc: 0.8929\n",
      "Epoch 88/240\n",
      "71/71 [==============================] - 0s 4ms/step - loss: 0.3635 - acc: 0.8307 - val_loss: 0.2862 - val_acc: 0.8730\n",
      "Epoch 89/240\n",
      "71/71 [==============================] - 0s 4ms/step - loss: 0.3555 - acc: 0.8386 - val_loss: 0.2912 - val_acc: 0.8770\n",
      "Epoch 90/240\n",
      "71/71 [==============================] - 0s 4ms/step - loss: 0.3604 - acc: 0.8395 - val_loss: 0.2809 - val_acc: 0.9127\n",
      "Epoch 91/240\n",
      "71/71 [==============================] - 0s 5ms/step - loss: 0.3489 - acc: 0.8391 - val_loss: 0.2759 - val_acc: 0.9048\n",
      "Epoch 92/240\n",
      "71/71 [==============================] - 0s 4ms/step - loss: 0.3508 - acc: 0.8351 - val_loss: 0.2802 - val_acc: 0.9087\n",
      "Epoch 93/240\n",
      "71/71 [==============================] - 0s 4ms/step - loss: 0.3602 - acc: 0.8254 - val_loss: 0.2789 - val_acc: 0.8968\n",
      "Epoch 94/240\n",
      "71/71 [==============================] - 0s 5ms/step - loss: 0.3485 - acc: 0.8364 - val_loss: 0.2836 - val_acc: 0.8889\n",
      "Epoch 95/240\n",
      "71/71 [==============================] - 0s 4ms/step - loss: 0.3401 - acc: 0.8483 - val_loss: 0.2793 - val_acc: 0.8968\n",
      "Epoch 96/240\n",
      "71/71 [==============================] - 0s 5ms/step - loss: 0.3674 - acc: 0.8254 - val_loss: 0.3020 - val_acc: 0.8492\n",
      "Epoch 97/240\n",
      "71/71 [==============================] - 0s 5ms/step - loss: 0.3686 - acc: 0.8135 - val_loss: 0.2768 - val_acc: 0.8929\n",
      "Epoch 98/240\n",
      "71/71 [==============================] - 0s 5ms/step - loss: 0.3535 - acc: 0.8360 - val_loss: 0.2745 - val_acc: 0.9127\n",
      "Epoch 99/240\n",
      "71/71 [==============================] - 0s 4ms/step - loss: 0.3528 - acc: 0.8338 - val_loss: 0.2797 - val_acc: 0.8849\n",
      "Epoch 100/240\n",
      "71/71 [==============================] - 0s 4ms/step - loss: 0.3542 - acc: 0.8307 - val_loss: 0.2988 - val_acc: 0.8492\n",
      "Epoch 101/240\n",
      "71/71 [==============================] - 0s 4ms/step - loss: 0.3638 - acc: 0.8161 - val_loss: 0.2845 - val_acc: 0.8730\n",
      "Epoch 102/240\n",
      "71/71 [==============================] - 0s 4ms/step - loss: 0.3554 - acc: 0.8241 - val_loss: 0.2813 - val_acc: 0.9127\n",
      "Epoch 103/240\n",
      "71/71 [==============================] - 0s 4ms/step - loss: 0.3491 - acc: 0.8422 - val_loss: 0.2879 - val_acc: 0.8849\n",
      "Epoch 104/240\n",
      "71/71 [==============================] - 0s 5ms/step - loss: 0.3450 - acc: 0.8483 - val_loss: 0.2894 - val_acc: 0.8611\n",
      "Epoch 105/240\n",
      "71/71 [==============================] - 0s 4ms/step - loss: 0.3602 - acc: 0.8183 - val_loss: 0.2716 - val_acc: 0.9048\n",
      "Epoch 106/240\n",
      "71/71 [==============================] - 0s 4ms/step - loss: 0.3532 - acc: 0.8338 - val_loss: 0.2806 - val_acc: 0.8849\n",
      "Epoch 107/240\n",
      "71/71 [==============================] - 0s 4ms/step - loss: 0.3526 - acc: 0.8338 - val_loss: 0.3303 - val_acc: 0.8016\n",
      "Epoch 108/240\n",
      "71/71 [==============================] - 0s 6ms/step - loss: 0.3624 - acc: 0.8170 - val_loss: 0.2823 - val_acc: 0.9127\n",
      "Epoch 109/240\n",
      "71/71 [==============================] - 0s 4ms/step - loss: 0.3565 - acc: 0.8161 - val_loss: 0.2886 - val_acc: 0.8810\n",
      "Epoch 110/240\n",
      "71/71 [==============================] - 0s 4ms/step - loss: 0.3530 - acc: 0.8320 - val_loss: 0.2975 - val_acc: 0.8611\n",
      "Epoch 111/240\n",
      "71/71 [==============================] - 0s 4ms/step - loss: 0.3577 - acc: 0.8302 - val_loss: 0.2725 - val_acc: 0.8889\n",
      "Epoch 112/240\n",
      "71/71 [==============================] - 0s 4ms/step - loss: 0.3442 - acc: 0.8329 - val_loss: 0.2802 - val_acc: 0.8770\n",
      "Epoch 113/240\n",
      "71/71 [==============================] - 0s 4ms/step - loss: 0.3495 - acc: 0.8347 - val_loss: 0.2800 - val_acc: 0.8889\n",
      "Epoch 114/240\n",
      "71/71 [==============================] - 0s 4ms/step - loss: 0.3441 - acc: 0.8430 - val_loss: 0.2927 - val_acc: 0.8571\n",
      "Epoch 115/240\n",
      "71/71 [==============================] - 0s 4ms/step - loss: 0.3523 - acc: 0.8197 - val_loss: 0.2738 - val_acc: 0.9048\n",
      "Epoch 116/240\n",
      "71/71 [==============================] - 0s 4ms/step - loss: 0.3572 - acc: 0.8311 - val_loss: 0.2714 - val_acc: 0.9167\n",
      "Epoch 117/240\n",
      "71/71 [==============================] - 0s 4ms/step - loss: 0.3467 - acc: 0.8386 - val_loss: 0.2732 - val_acc: 0.8849\n",
      "Epoch 118/240\n",
      "71/71 [==============================] - 0s 4ms/step - loss: 0.3303 - acc: 0.8501 - val_loss: 0.2862 - val_acc: 0.8810\n",
      "Epoch 119/240\n",
      "71/71 [==============================] - 0s 4ms/step - loss: 0.3464 - acc: 0.8395 - val_loss: 0.2960 - val_acc: 0.8532\n",
      "Epoch 120/240\n",
      "71/71 [==============================] - 0s 4ms/step - loss: 0.3456 - acc: 0.8267 - val_loss: 0.2774 - val_acc: 0.8770\n",
      "Epoch 121/240\n",
      "71/71 [==============================] - 0s 6ms/step - loss: 0.3590 - acc: 0.8144 - val_loss: 0.2816 - val_acc: 0.8849\n",
      "Epoch 122/240\n",
      "71/71 [==============================] - 0s 4ms/step - loss: 0.3484 - acc: 0.8386 - val_loss: 0.2818 - val_acc: 0.8810\n",
      "Epoch 123/240\n",
      "71/71 [==============================] - 0s 5ms/step - loss: 0.3367 - acc: 0.8386 - val_loss: 0.2671 - val_acc: 0.9127\n",
      "Epoch 124/240\n",
      "71/71 [==============================] - 0s 5ms/step - loss: 0.3446 - acc: 0.8373 - val_loss: 0.2671 - val_acc: 0.9008\n"
     ]
    },
    {
     "name": "stdout",
     "output_type": "stream",
     "text": [
      "Epoch 125/240\n",
      "71/71 [==============================] - 0s 5ms/step - loss: 0.3437 - acc: 0.8347 - val_loss: 0.2680 - val_acc: 0.8929\n",
      "Epoch 126/240\n",
      "71/71 [==============================] - 0s 5ms/step - loss: 0.3580 - acc: 0.8197 - val_loss: 0.3303 - val_acc: 0.7976\n",
      "Epoch 127/240\n",
      "71/71 [==============================] - 0s 4ms/step - loss: 0.3543 - acc: 0.8210 - val_loss: 0.2730 - val_acc: 0.9048\n",
      "Epoch 128/240\n",
      "71/71 [==============================] - 0s 4ms/step - loss: 0.3380 - acc: 0.8448 - val_loss: 0.2647 - val_acc: 0.9048\n",
      "Epoch 129/240\n",
      "71/71 [==============================] - 0s 4ms/step - loss: 0.3550 - acc: 0.8250 - val_loss: 0.3224 - val_acc: 0.8016\n",
      "Epoch 130/240\n",
      "71/71 [==============================] - 0s 4ms/step - loss: 0.3434 - acc: 0.8342 - val_loss: 0.2759 - val_acc: 0.9167\n",
      "Epoch 131/240\n",
      "71/71 [==============================] - 0s 4ms/step - loss: 0.3382 - acc: 0.8430 - val_loss: 0.2877 - val_acc: 0.8651\n",
      "Epoch 132/240\n",
      "71/71 [==============================] - 0s 4ms/step - loss: 0.3493 - acc: 0.8272 - val_loss: 0.2910 - val_acc: 0.8849\n",
      "Epoch 133/240\n",
      "71/71 [==============================] - 0s 4ms/step - loss: 0.3484 - acc: 0.8408 - val_loss: 0.2691 - val_acc: 0.9008\n",
      "Epoch 134/240\n",
      "71/71 [==============================] - 0s 4ms/step - loss: 0.3410 - acc: 0.8457 - val_loss: 0.2733 - val_acc: 0.8730\n",
      "Epoch 135/240\n",
      "71/71 [==============================] - 0s 5ms/step - loss: 0.3420 - acc: 0.8395 - val_loss: 0.2632 - val_acc: 0.8968\n",
      "Epoch 136/240\n",
      "71/71 [==============================] - 0s 6ms/step - loss: 0.3388 - acc: 0.8320 - val_loss: 0.2930 - val_acc: 0.8492\n",
      "Epoch 137/240\n",
      "71/71 [==============================] - 0s 4ms/step - loss: 0.3322 - acc: 0.8382 - val_loss: 0.2694 - val_acc: 0.8849\n",
      "Epoch 138/240\n",
      "71/71 [==============================] - 0s 5ms/step - loss: 0.3375 - acc: 0.8320 - val_loss: 0.2623 - val_acc: 0.9127\n",
      "Epoch 139/240\n",
      "71/71 [==============================] - 0s 5ms/step - loss: 0.3445 - acc: 0.8422 - val_loss: 0.2636 - val_acc: 0.8889\n",
      "Epoch 140/240\n",
      "71/71 [==============================] - 0s 5ms/step - loss: 0.3271 - acc: 0.8505 - val_loss: 0.2673 - val_acc: 0.8929\n",
      "Epoch 141/240\n",
      "71/71 [==============================] - 0s 5ms/step - loss: 0.3192 - acc: 0.8501 - val_loss: 0.2627 - val_acc: 0.9048\n",
      "Epoch 142/240\n",
      "71/71 [==============================] - 0s 4ms/step - loss: 0.3472 - acc: 0.8355 - val_loss: 0.2610 - val_acc: 0.9246\n",
      "Epoch 143/240\n",
      "71/71 [==============================] - 0s 4ms/step - loss: 0.3365 - acc: 0.8435 - val_loss: 0.2780 - val_acc: 0.8730\n",
      "Epoch 144/240\n",
      "71/71 [==============================] - 0s 4ms/step - loss: 0.3370 - acc: 0.8413 - val_loss: 0.2691 - val_acc: 0.8770\n",
      "Epoch 145/240\n",
      "71/71 [==============================] - 0s 5ms/step - loss: 0.3289 - acc: 0.8391 - val_loss: 0.2781 - val_acc: 0.8810\n",
      "Epoch 146/240\n",
      "71/71 [==============================] - 0s 5ms/step - loss: 0.3369 - acc: 0.8399 - val_loss: 0.2638 - val_acc: 0.9127\n",
      "Epoch 147/240\n",
      "71/71 [==============================] - 0s 4ms/step - loss: 0.3459 - acc: 0.8342 - val_loss: 0.2590 - val_acc: 0.8968\n",
      "Epoch 148/240\n",
      "71/71 [==============================] - 0s 4ms/step - loss: 0.3506 - acc: 0.8338 - val_loss: 0.2645 - val_acc: 0.9008\n",
      "Epoch 149/240\n",
      "71/71 [==============================] - 0s 4ms/step - loss: 0.3395 - acc: 0.8276 - val_loss: 0.2617 - val_acc: 0.9087\n",
      "Epoch 150/240\n",
      "71/71 [==============================] - 0s 4ms/step - loss: 0.3377 - acc: 0.8448 - val_loss: 0.2656 - val_acc: 0.9008\n",
      "Epoch 151/240\n",
      "71/71 [==============================] - 0s 5ms/step - loss: 0.3373 - acc: 0.8404 - val_loss: 0.2595 - val_acc: 0.9127\n",
      "Epoch 152/240\n",
      "71/71 [==============================] - 0s 5ms/step - loss: 0.3451 - acc: 0.8347 - val_loss: 0.2870 - val_acc: 0.8611\n",
      "Epoch 153/240\n",
      "71/71 [==============================] - 0s 5ms/step - loss: 0.3283 - acc: 0.8496 - val_loss: 0.2833 - val_acc: 0.8611\n",
      "Epoch 154/240\n",
      "71/71 [==============================] - 0s 5ms/step - loss: 0.3342 - acc: 0.8505 - val_loss: 0.2820 - val_acc: 0.8651\n",
      "Epoch 155/240\n",
      "71/71 [==============================] - 0s 4ms/step - loss: 0.3333 - acc: 0.8404 - val_loss: 0.2648 - val_acc: 0.8889\n",
      "Epoch 156/240\n",
      "71/71 [==============================] - 0s 4ms/step - loss: 0.3218 - acc: 0.8501 - val_loss: 0.2646 - val_acc: 0.8810\n",
      "Epoch 157/240\n",
      "71/71 [==============================] - 0s 4ms/step - loss: 0.3304 - acc: 0.8523 - val_loss: 0.3110 - val_acc: 0.8214\n",
      "Epoch 158/240\n",
      "71/71 [==============================] - 0s 4ms/step - loss: 0.3319 - acc: 0.8426 - val_loss: 0.2683 - val_acc: 0.8889\n",
      "Epoch 159/240\n",
      "71/71 [==============================] - 0s 4ms/step - loss: 0.3591 - acc: 0.8228 - val_loss: 0.2601 - val_acc: 0.8929\n",
      "Epoch 160/240\n",
      "71/71 [==============================] - 0s 5ms/step - loss: 0.3502 - acc: 0.8285 - val_loss: 0.2593 - val_acc: 0.9087\n",
      "Epoch 161/240\n",
      "71/71 [==============================] - 0s 4ms/step - loss: 0.3434 - acc: 0.8267 - val_loss: 0.2910 - val_acc: 0.8532\n",
      "Epoch 162/240\n",
      "71/71 [==============================] - 0s 5ms/step - loss: 0.3326 - acc: 0.8430 - val_loss: 0.2675 - val_acc: 0.9008\n",
      "Epoch 163/240\n",
      "71/71 [==============================] - 0s 4ms/step - loss: 0.3283 - acc: 0.8413 - val_loss: 0.3089 - val_acc: 0.8333\n",
      "Epoch 164/240\n",
      "71/71 [==============================] - 0s 4ms/step - loss: 0.3302 - acc: 0.8391 - val_loss: 0.2705 - val_acc: 0.8810\n",
      "Epoch 165/240\n",
      "71/71 [==============================] - 0s 4ms/step - loss: 0.3273 - acc: 0.8457 - val_loss: 0.2565 - val_acc: 0.9008\n",
      "Epoch 166/240\n",
      "71/71 [==============================] - 0s 5ms/step - loss: 0.3444 - acc: 0.8325 - val_loss: 0.2653 - val_acc: 0.8929\n",
      "Epoch 167/240\n",
      "71/71 [==============================] - 0s 4ms/step - loss: 0.3321 - acc: 0.8399 - val_loss: 0.2625 - val_acc: 0.8929\n",
      "Epoch 168/240\n",
      "71/71 [==============================] - 0s 5ms/step - loss: 0.3398 - acc: 0.8377 - val_loss: 0.2661 - val_acc: 0.8968\n",
      "Epoch 169/240\n",
      "71/71 [==============================] - 0s 5ms/step - loss: 0.3189 - acc: 0.8563 - val_loss: 0.2686 - val_acc: 0.8770\n",
      "Epoch 170/240\n",
      "71/71 [==============================] - 0s 4ms/step - loss: 0.3389 - acc: 0.8386 - val_loss: 0.2549 - val_acc: 0.9167\n",
      "Epoch 171/240\n",
      "71/71 [==============================] - 0s 5ms/step - loss: 0.3193 - acc: 0.8523 - val_loss: 0.2651 - val_acc: 0.8929\n",
      "Epoch 172/240\n",
      "71/71 [==============================] - 0s 4ms/step - loss: 0.3455 - acc: 0.8258 - val_loss: 0.2660 - val_acc: 0.8849\n",
      "Epoch 173/240\n",
      "71/71 [==============================] - 0s 4ms/step - loss: 0.3324 - acc: 0.8435 - val_loss: 0.2681 - val_acc: 0.8889\n",
      "Epoch 174/240\n",
      "71/71 [==============================] - 0s 4ms/step - loss: 0.3271 - acc: 0.8510 - val_loss: 0.2720 - val_acc: 0.8651\n",
      "Epoch 175/240\n",
      "71/71 [==============================] - 0s 4ms/step - loss: 0.3262 - acc: 0.8505 - val_loss: 0.2590 - val_acc: 0.8929\n",
      "Epoch 176/240\n",
      "71/71 [==============================] - 0s 4ms/step - loss: 0.3352 - acc: 0.8386 - val_loss: 0.2526 - val_acc: 0.9206\n",
      "Epoch 177/240\n",
      "71/71 [==============================] - 0s 5ms/step - loss: 0.3256 - acc: 0.8430 - val_loss: 0.2526 - val_acc: 0.9087\n",
      "Epoch 178/240\n",
      "71/71 [==============================] - 0s 4ms/step - loss: 0.3344 - acc: 0.8395 - val_loss: 0.2687 - val_acc: 0.8849\n",
      "Epoch 179/240\n",
      "71/71 [==============================] - 0s 4ms/step - loss: 0.3448 - acc: 0.8311 - val_loss: 0.2862 - val_acc: 0.8571\n",
      "Epoch 180/240\n",
      "71/71 [==============================] - 0s 4ms/step - loss: 0.3295 - acc: 0.8439 - val_loss: 0.2562 - val_acc: 0.9127\n",
      "Epoch 181/240\n",
      "71/71 [==============================] - 0s 5ms/step - loss: 0.3347 - acc: 0.8369 - val_loss: 0.2520 - val_acc: 0.9167\n",
      "Epoch 182/240\n",
      "71/71 [==============================] - 0s 4ms/step - loss: 0.3353 - acc: 0.8413 - val_loss: 0.2650 - val_acc: 0.8889\n",
      "Epoch 183/240\n",
      "71/71 [==============================] - 0s 5ms/step - loss: 0.3236 - acc: 0.8514 - val_loss: 0.2509 - val_acc: 0.9087\n",
      "Epoch 184/240\n",
      "71/71 [==============================] - 0s 5ms/step - loss: 0.3273 - acc: 0.8545 - val_loss: 0.2556 - val_acc: 0.8968\n",
      "Epoch 185/240\n",
      "71/71 [==============================] - 0s 5ms/step - loss: 0.3274 - acc: 0.8532 - val_loss: 0.2528 - val_acc: 0.9008\n",
      "Epoch 186/240\n"
     ]
    },
    {
     "name": "stdout",
     "output_type": "stream",
     "text": [
      "71/71 [==============================] - 0s 5ms/step - loss: 0.3249 - acc: 0.8483 - val_loss: 0.2503 - val_acc: 0.9286\n",
      "Epoch 187/240\n",
      "71/71 [==============================] - 0s 4ms/step - loss: 0.3275 - acc: 0.8457 - val_loss: 0.2528 - val_acc: 0.9008\n",
      "Epoch 188/240\n",
      "71/71 [==============================] - 0s 5ms/step - loss: 0.3164 - acc: 0.8576 - val_loss: 0.2503 - val_acc: 0.9048\n",
      "Epoch 189/240\n",
      "71/71 [==============================] - 0s 4ms/step - loss: 0.3357 - acc: 0.8461 - val_loss: 0.2609 - val_acc: 0.8889\n",
      "Epoch 190/240\n",
      "71/71 [==============================] - 0s 4ms/step - loss: 0.3323 - acc: 0.8386 - val_loss: 0.2459 - val_acc: 0.9286\n",
      "Epoch 191/240\n",
      "71/71 [==============================] - 0s 5ms/step - loss: 0.3310 - acc: 0.8488 - val_loss: 0.2790 - val_acc: 0.8690\n",
      "Epoch 192/240\n",
      "71/71 [==============================] - 0s 4ms/step - loss: 0.3260 - acc: 0.8448 - val_loss: 0.2508 - val_acc: 0.9048\n",
      "Epoch 193/240\n",
      "71/71 [==============================] - 0s 4ms/step - loss: 0.3420 - acc: 0.8347 - val_loss: 0.3202 - val_acc: 0.8095\n",
      "Epoch 194/240\n",
      "71/71 [==============================] - 0s 5ms/step - loss: 0.3376 - acc: 0.8483 - val_loss: 0.2910 - val_acc: 0.8373\n",
      "Epoch 195/240\n",
      "71/71 [==============================] - 0s 4ms/step - loss: 0.3320 - acc: 0.8488 - val_loss: 0.2487 - val_acc: 0.9246\n",
      "Epoch 196/240\n",
      "71/71 [==============================] - 0s 4ms/step - loss: 0.3220 - acc: 0.8496 - val_loss: 0.2474 - val_acc: 0.9127\n",
      "Epoch 197/240\n",
      "71/71 [==============================] - 0s 5ms/step - loss: 0.3338 - acc: 0.8452 - val_loss: 0.2691 - val_acc: 0.8730\n",
      "Epoch 198/240\n",
      "71/71 [==============================] - 0s 5ms/step - loss: 0.3254 - acc: 0.8448 - val_loss: 0.2476 - val_acc: 0.9246\n",
      "Epoch 199/240\n",
      "71/71 [==============================] - 0s 5ms/step - loss: 0.3172 - acc: 0.8523 - val_loss: 0.2463 - val_acc: 0.9127\n",
      "Epoch 200/240\n",
      "71/71 [==============================] - 0s 5ms/step - loss: 0.3201 - acc: 0.8527 - val_loss: 0.2493 - val_acc: 0.9206\n",
      "Epoch 201/240\n",
      "71/71 [==============================] - 0s 4ms/step - loss: 0.3210 - acc: 0.8430 - val_loss: 0.2481 - val_acc: 0.9048\n",
      "Epoch 202/240\n",
      "71/71 [==============================] - 0s 5ms/step - loss: 0.3226 - acc: 0.8479 - val_loss: 0.2510 - val_acc: 0.9048\n",
      "Epoch 203/240\n",
      "71/71 [==============================] - 0s 5ms/step - loss: 0.3235 - acc: 0.8483 - val_loss: 0.2873 - val_acc: 0.8532\n",
      "Epoch 204/240\n",
      "71/71 [==============================] - 0s 4ms/step - loss: 0.3078 - acc: 0.8580 - val_loss: 0.2519 - val_acc: 0.8929\n",
      "Epoch 205/240\n",
      "71/71 [==============================] - 0s 4ms/step - loss: 0.3206 - acc: 0.8488 - val_loss: 0.2445 - val_acc: 0.9246\n",
      "Epoch 206/240\n",
      "71/71 [==============================] - 0s 4ms/step - loss: 0.3211 - acc: 0.8448 - val_loss: 0.2683 - val_acc: 0.8849\n",
      "Epoch 207/240\n",
      "71/71 [==============================] - 0s 4ms/step - loss: 0.3477 - acc: 0.8241 - val_loss: 0.2493 - val_acc: 0.9127\n",
      "Epoch 208/240\n",
      "71/71 [==============================] - 0s 4ms/step - loss: 0.3169 - acc: 0.8541 - val_loss: 0.2932 - val_acc: 0.8452\n",
      "Epoch 209/240\n",
      "71/71 [==============================] - 0s 5ms/step - loss: 0.3292 - acc: 0.8399 - val_loss: 0.2448 - val_acc: 0.9286\n",
      "Epoch 210/240\n",
      "71/71 [==============================] - 0s 4ms/step - loss: 0.3196 - acc: 0.8474 - val_loss: 0.3125 - val_acc: 0.8056\n",
      "Epoch 211/240\n",
      "71/71 [==============================] - 0s 4ms/step - loss: 0.3220 - acc: 0.8461 - val_loss: 0.2471 - val_acc: 0.9167\n",
      "Epoch 212/240\n",
      "71/71 [==============================] - 0s 4ms/step - loss: 0.3263 - acc: 0.8452 - val_loss: 0.3573 - val_acc: 0.7738\n",
      "Epoch 213/240\n",
      "71/71 [==============================] - 0s 4ms/step - loss: 0.3458 - acc: 0.8276 - val_loss: 0.2684 - val_acc: 0.8810\n",
      "Epoch 214/240\n",
      "71/71 [==============================] - 0s 5ms/step - loss: 0.3431 - acc: 0.8316 - val_loss: 0.2890 - val_acc: 0.8611\n",
      "Epoch 215/240\n",
      "71/71 [==============================] - 0s 5ms/step - loss: 0.3117 - acc: 0.8576 - val_loss: 0.2485 - val_acc: 0.9048\n",
      "Epoch 216/240\n",
      "71/71 [==============================] - 0s 4ms/step - loss: 0.3441 - acc: 0.8294 - val_loss: 0.3045 - val_acc: 0.8373\n",
      "Epoch 217/240\n",
      "71/71 [==============================] - 0s 4ms/step - loss: 0.3356 - acc: 0.8422 - val_loss: 0.2541 - val_acc: 0.8968\n",
      "Epoch 218/240\n",
      "71/71 [==============================] - 0s 5ms/step - loss: 0.3203 - acc: 0.8492 - val_loss: 0.2712 - val_acc: 0.8810\n",
      "Epoch 219/240\n",
      "71/71 [==============================] - 0s 4ms/step - loss: 0.3268 - acc: 0.8435 - val_loss: 0.2436 - val_acc: 0.9325\n",
      "Epoch 220/240\n",
      "71/71 [==============================] - 0s 5ms/step - loss: 0.3160 - acc: 0.8496 - val_loss: 0.2461 - val_acc: 0.9048\n",
      "Epoch 221/240\n",
      "71/71 [==============================] - 0s 5ms/step - loss: 0.3285 - acc: 0.8474 - val_loss: 0.2732 - val_acc: 0.8730\n",
      "Epoch 222/240\n",
      "71/71 [==============================] - 0s 4ms/step - loss: 0.3282 - acc: 0.8430 - val_loss: 0.3015 - val_acc: 0.8373\n",
      "Epoch 223/240\n",
      "71/71 [==============================] - 0s 5ms/step - loss: 0.3138 - acc: 0.8563 - val_loss: 0.2492 - val_acc: 0.8929\n",
      "Epoch 224/240\n",
      "71/71 [==============================] - 0s 4ms/step - loss: 0.3233 - acc: 0.8457 - val_loss: 0.2442 - val_acc: 0.9048\n",
      "Epoch 225/240\n",
      "71/71 [==============================] - 0s 4ms/step - loss: 0.3110 - acc: 0.8571 - val_loss: 0.2565 - val_acc: 0.8849\n",
      "Epoch 226/240\n",
      "71/71 [==============================] - 0s 4ms/step - loss: 0.3147 - acc: 0.8545 - val_loss: 0.2505 - val_acc: 0.8968\n",
      "Epoch 227/240\n",
      "71/71 [==============================] - 0s 5ms/step - loss: 0.3110 - acc: 0.8611 - val_loss: 0.2472 - val_acc: 0.9127\n",
      "Epoch 228/240\n",
      "71/71 [==============================] - 0s 4ms/step - loss: 0.3225 - acc: 0.8470 - val_loss: 0.2439 - val_acc: 0.9048\n",
      "Epoch 229/240\n",
      "71/71 [==============================] - 0s 4ms/step - loss: 0.3230 - acc: 0.8483 - val_loss: 0.2593 - val_acc: 0.8849\n",
      "Epoch 230/240\n",
      "71/71 [==============================] - 0s 5ms/step - loss: 0.3421 - acc: 0.8422 - val_loss: 0.2526 - val_acc: 0.8968\n",
      "Epoch 231/240\n",
      "71/71 [==============================] - 0s 4ms/step - loss: 0.3199 - acc: 0.8549 - val_loss: 0.2432 - val_acc: 0.9206\n",
      "Epoch 232/240\n",
      "71/71 [==============================] - 0s 4ms/step - loss: 0.3311 - acc: 0.8316 - val_loss: 0.2407 - val_acc: 0.9365\n",
      "Epoch 233/240\n",
      "71/71 [==============================] - 0s 4ms/step - loss: 0.3163 - acc: 0.8563 - val_loss: 0.2427 - val_acc: 0.9048\n",
      "Epoch 234/240\n",
      "71/71 [==============================] - 0s 4ms/step - loss: 0.2995 - acc: 0.8620 - val_loss: 0.2399 - val_acc: 0.9048\n",
      "Epoch 235/240\n",
      "71/71 [==============================] - 0s 4ms/step - loss: 0.3277 - acc: 0.8360 - val_loss: 0.2452 - val_acc: 0.9167\n",
      "Epoch 236/240\n",
      "71/71 [==============================] - 0s 4ms/step - loss: 0.3246 - acc: 0.8496 - val_loss: 0.2413 - val_acc: 0.9206\n",
      "Epoch 237/240\n",
      "71/71 [==============================] - 0s 5ms/step - loss: 0.3061 - acc: 0.8620 - val_loss: 0.2871 - val_acc: 0.8532\n",
      "Epoch 238/240\n",
      "71/71 [==============================] - 0s 5ms/step - loss: 0.3093 - acc: 0.8541 - val_loss: 0.2371 - val_acc: 0.9405\n",
      "Epoch 239/240\n",
      "71/71 [==============================] - 0s 4ms/step - loss: 0.3015 - acc: 0.8607 - val_loss: 0.2399 - val_acc: 0.9246\n",
      "Epoch 240/240\n",
      "71/71 [==============================] - 0s 4ms/step - loss: 0.3346 - acc: 0.8399 - val_loss: 0.2712 - val_acc: 0.8730\n"
     ]
    }
   ],
   "source": [
    "# 模型训练\n",
    "tensorboard_callback = tf.keras.callbacks.TensorBoard(log_dir=log_dir, histogram_freq=1)\n",
    "history = cnn_model.fit(train_data, train_label,epochs=240, batch_size=32, validation_split=0.1,callbacks=[tensorboard_callback])"
   ]
  },
  {
   "cell_type": "code",
   "execution_count": 19,
   "id": "ee1f831a",
   "metadata": {
    "ExecuteTime": {
     "end_time": "2022-04-14T07:08:51.787507Z",
     "start_time": "2022-04-14T07:08:51.716914Z"
    }
   },
   "outputs": [
    {
     "name": "stdout",
     "output_type": "stream",
     "text": [
      "*****完成预处理，进行模型评估*****\n"
     ]
    }
   ],
   "source": [
    "from sklearn.metrics import roc_curve,roc_auc_score,classification_report,accuracy_score,log_loss\n",
    "print(\"*****完成预处理，进行模型评估*****\")\n",
    "y_pred = cnn_model.predict(val_data)\n",
    "y_pred = [np.argmax(x) for x in y_pred]"
   ]
  },
  {
   "cell_type": "code",
   "execution_count": 21,
   "id": "08c266e3",
   "metadata": {
    "ExecuteTime": {
     "end_time": "2022-04-14T07:09:05.278842Z",
     "start_time": "2022-04-14T07:09:05.268284Z"
    }
   },
   "outputs": [
    {
     "name": "stdout",
     "output_type": "stream",
     "text": [
      "------------------测试集上得分：------------------------\n",
      "*****\n",
      "测试集准确率得分: 0.886111\n",
      "*****\n",
      "准确率、召回率、f1-值测试报告如下:\n",
      "               precision    recall  f1-score   support\n",
      "\n",
      "           0       1.00      1.00      1.00       255\n",
      "           1       0.89      0.63      0.73       271\n",
      "           2       0.71      0.92      0.80       270\n",
      "           3       1.00      1.00      1.00       284\n",
      "\n",
      "    accuracy                           0.89      1080\n",
      "   macro avg       0.90      0.89      0.88      1080\n",
      "weighted avg       0.90      0.89      0.88      1080\n",
      "\n"
     ]
    }
   ],
   "source": [
    "print('------------------测试集上得分：------------------------')\n",
    "print('*' * 5)\n",
    "print('测试集准确率得分:', round(accuracy_score(val_label, y_pred),6))\n",
    "print('*' * 5)\n",
    "print('准确率、召回率、f1-值测试报告如下:\\n', classification_report(val_label, y_pred))"
   ]
  },
  {
   "cell_type": "code",
   "execution_count": 17,
   "id": "a12e5fce",
   "metadata": {
    "ExecuteTime": {
     "end_time": "2022-04-14T06:48:53.229653Z",
     "start_time": "2022-04-14T06:48:53.056141Z"
    }
   },
   "outputs": [
    {
     "data": {
      "image/png": "[encoded data removed]",
      "text/plain": [
       "<Figure size 432x288 with 1 Axes>"
      ]
     },
     "metadata": {
      "needs_background": "light"
     },
     "output_type": "display_data"
    }
   ],
   "source": [
    "# 设置Y轴范围\n",
    "plt.ylim(0,1)\n",
    "# 训练准确率曲线\n",
    "show_data1 = history.history['acc']\n",
    "# 测试准确率曲线\n",
    "show_data2 = history.history['val_acc']\n",
    "x_data = list(range(1,len(show_data1)+1))\n",
    "ln1, = plt.plot(x_data,show_data1,color='blue',linewidth=2.0,linestyle='--')\n",
    "ln2, = plt.plot(x_data,show_data2,color='red',linewidth=3.0,linestyle='-.')\n",
    "plt.legend(handles=[ln1,ln2],labels=['train_acc','val_acc'])\n",
    "plt.show()"
   ]
  }
 ],
 "metadata": {
  "kernelspec": {
   "display_name": "Python 3 (ipykernel)",
   "language": "python",
   "name": "python3"
  },
  "language_info": {
   "codemirror_mode": {
    "name": "ipython",
    "version": 3
   },
   "file_extension": ".py",
   "mimetype": "text/x-python",
   "name": "python",
   "nbconvert_exporter": "python",
   "pygments_lexer": "ipython3",
   "version": "3.8.13"
  }
 },
 "nbformat": 4,
 "nbformat_minor": 5
}
