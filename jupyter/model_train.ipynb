{
 "cells": [
  {
   "cell_type": "code",
   "execution_count": 1,
   "id": "7444bb02",
   "metadata": {
    "ExecuteTime": {
     "end_time": "2022-05-21T08:19:57.373396Z",
     "start_time": "2022-05-21T08:19:55.736122Z"
    }
   },
   "outputs": [],
   "source": [
    "import os\n",
    "os.environ['TF_CPP_MIN_LOG_LEVEL'] = '2'\n",
    "import matplotlib.pyplot as plt\n",
    "from collections import Counter\n",
    "import numpy as np\n",
    "import tensorflow as tf"
   ]
  },
  {
   "cell_type": "code",
   "execution_count": 2,
   "id": "b6283d01",
   "metadata": {
    "ExecuteTime": {
     "end_time": "2022-05-21T08:19:57.382854Z",
     "start_time": "2022-05-21T08:19:57.377214Z"
    }
   },
   "outputs": [],
   "source": [
    "def load_data():\n",
    "    # 读取数据\n",
    "    x = np.load('train_data/train_data.npy')\n",
    "    y = np.load('train_data/label.npy')\n",
    "    num = len(Counter(y))\n",
    "    print(\"类别数量为：\", num)\n",
    "    return x, y, num"
   ]
  },
  {
   "cell_type": "code",
   "execution_count": 3,
   "id": "93132586",
   "metadata": {
    "ExecuteTime": {
     "end_time": "2022-05-21T08:19:57.397383Z",
     "start_time": "2022-05-21T08:19:57.386381Z"
    }
   },
   "outputs": [],
   "source": [
    "def create_train_data(x, y, ratio=0.8):\n",
    "    \"\"\"\n",
    "    x:数据\n",
    "    y:类别\n",
    "    ratio:生成训练集比率\n",
    "    \"\"\"\n",
    "    # 打乱顺序\n",
    "    # 读取data矩阵的第一维数（图片的个数）\n",
    "    num_example = x.shape[0]\n",
    "    # 产生一个num_example范围，步长为1的序列\n",
    "    arr = np.arange(num_example)\n",
    "    # 调用函数，打乱顺序\n",
    "    np.random.seed(99)\n",
    "    np.random.shuffle(arr)\n",
    "    # 按照打乱的顺序，重新排序\n",
    "    arr_data = x[arr]\n",
    "    arr_label = y[arr]\n",
    "    # 将数据集分为训练集80%、测试集20%\n",
    "    s = int(num_example * ratio)\n",
    "    x_train = arr_data[:s]\n",
    "    y_train = arr_label[:s]\n",
    "    x_val = arr_data[s:]\n",
    "    y_val = arr_label[s:]\n",
    "    print(\"训练集shape\", x_train.shape)\n",
    "    print(\"训练集类别：\", Counter(y_train))\n",
    "    print(\"测试集shape\", x_val.shape)\n",
    "    print(\"测试集类别：\", Counter(y_val))\n",
    "    return x_train, y_train, x_val, y_val"
   ]
  },
  {
   "cell_type": "code",
   "execution_count": 4,
   "id": "90ca68e6",
   "metadata": {
    "ExecuteTime": {
     "end_time": "2022-05-21T08:19:57.568467Z",
     "start_time": "2022-05-21T08:19:57.401979Z"
    },
    "scrolled": true
   },
   "outputs": [
    {
     "name": "stdout",
     "output_type": "stream",
     "text": [
      "类别数量为： 7\n",
      "训练集shape (4410, 1000, 3)\n",
      "训练集类别： Counter({3: 647, 0: 639, 6: 628, 5: 627, 1: 625, 4: 623, 2: 621})\n",
      "测试集shape (1890, 1000, 3)\n",
      "测试集类别： Counter({2: 279, 4: 277, 1: 275, 5: 273, 6: 272, 0: 261, 3: 253})\n",
      "**********\n",
      "训练集数量： 4410\n",
      "测试集数量： 1890\n"
     ]
    }
   ],
   "source": [
    "# 读取数据\n",
    "data, label, label_count = load_data()\n",
    "# 生成训练集测试集,70%用作训练，30%用作测试\n",
    "train_data, train_label, val_data, val_label = create_train_data(data, label, 0.7)\n",
    "print(\"*\"*10)\n",
    "print(\"训练集数量：\",len(train_label))\n",
    "print(\"测试集数量：\",len(val_label))"
   ]
  },
  {
   "cell_type": "markdown",
   "id": "712b2998",
   "metadata": {},
   "source": [
    "## 随机森林"
   ]
  },
  {
   "cell_type": "code",
   "execution_count": 5,
   "id": "c9f54f4c",
   "metadata": {
    "ExecuteTime": {
     "end_time": "2022-05-21T08:19:57.572455Z",
     "start_time": "2022-05-21T08:19:57.569575Z"
    }
   },
   "outputs": [],
   "source": [
    "# 使用机器学习算法需要对多维数据进行降维\n",
    "m_train = train_data.reshape(train_data.shape[0],train_data.shape[1]*train_data.shape[2])\n",
    "m_val = val_data.reshape(val_data.shape[0],val_data.shape[1]*val_data.shape[2])\n",
    "\n",
    "# 设置训练迭代次数\n",
    "epoch = 20"
   ]
  },
  {
   "cell_type": "code",
   "execution_count": 6,
   "id": "5f901037",
   "metadata": {
    "ExecuteTime": {
     "end_time": "2022-05-21T08:19:57.799826Z",
     "start_time": "2022-05-21T08:19:57.573743Z"
    }
   },
   "outputs": [],
   "source": [
    "from sklearn.ensemble import RandomForestClassifier\n",
    "from sklearn.metrics import roc_curve,roc_auc_score,classification_report,accuracy_score,log_loss\n",
    "from sklearn.model_selection import GridSearchCV,train_test_split\n",
    "from sklearn import model_selection\n",
    "from sklearn.preprocessing import  OneHotEncoder"
   ]
  },
  {
   "cell_type": "code",
   "execution_count": 7,
   "id": "6ab1b8ae",
   "metadata": {
    "ExecuteTime": {
     "end_time": "2022-05-21T08:21:52.592223Z",
     "start_time": "2022-05-21T08:19:57.801182Z"
    },
    "scrolled": false
   },
   "outputs": [
    {
     "name": "stdout",
     "output_type": "stream",
     "text": [
      "开始训练\n",
      "完成第 1 轮训练，测试集准确率： 0.822\n",
      "完成第 2 轮训练，测试集准确率： 0.838\n",
      "完成第 3 轮训练，测试集准确率： 0.824\n",
      "完成第 4 轮训练，测试集准确率： 0.828\n",
      "完成第 5 轮训练，测试集准确率： 0.828\n",
      "完成第 6 轮训练，测试集准确率： 0.831\n",
      "完成第 7 轮训练，测试集准确率： 0.827\n",
      "完成第 8 轮训练，测试集准确率： 0.832\n",
      "完成第 9 轮训练，测试集准确率： 0.834\n",
      "完成第 10 轮训练，测试集准确率： 0.826\n",
      "完成第 11 轮训练，测试集准确率： 0.814\n",
      "完成第 12 轮训练，测试集准确率： 0.83\n",
      "完成第 13 轮训练，测试集准确率： 0.824\n",
      "完成第 14 轮训练，测试集准确率： 0.816\n",
      "完成第 15 轮训练，测试集准确率： 0.829\n",
      "完成第 16 轮训练，测试集准确率： 0.829\n",
      "完成第 17 轮训练，测试集准确率： 0.831\n",
      "完成第 18 轮训练，测试集准确率： 0.828\n",
      "完成第 19 轮训练，测试集准确率： 0.826\n",
      "完成第 20 轮训练，测试集准确率： 0.824\n",
      "平均准确率： 0.8270500000000001\n"
     ]
    }
   ],
   "source": [
    "# 模型参数设置\n",
    "'''\n",
    "第一类：\n",
    "n_estimators：学习器的个数，interger，默认100\n",
    "bootstrap：是否有放回抽样，boolean，默认True\n",
    "第二类：\n",
    "max_features：节点分裂时参与判断的最大特征数，默认auto，即sqrt(n_features)\n",
    "max_depth：树的最大深度，int或None，默认None，表示对最大深度没有限制\n",
    "min_samples_split：最小样本划分的数目，\n",
    "min_samples_leaf：叶子节点最少样本数\n",
    "'''\n",
    "\n",
    "rfc = RandomForestClassifier(n_estimators = 50,min_samples_split = 5,min_samples_leaf = 4,max_depth = 10)\n",
    "\n",
    "# 模型准确率和损失值\n",
    "sum = 0\n",
    "acc_list = []\n",
    "loss_list = []\n",
    "train_acc_list = []\n",
    "print(\"开始训练\")\n",
    "for i in range(1,epoch +1):\n",
    "\n",
    "    # 模型训练\n",
    "    rfc.fit(m_train,train_label)\n",
    "\n",
    "    # # 训练集\n",
    "    # y_train = rfc.predict(m_train)\n",
    "\n",
    "    # 测试集\n",
    "    y_pred = np.asarray(rfc.predict(m_val),dtype = 'int64')\n",
    "\n",
    "    # 计算准确率\n",
    "    acc = round(accuracy_score(val_label, y_pred),3)\n",
    "    \n",
    "    # 训练集\n",
    "    y_pred = np.asarray(rfc.predict(m_train),dtype = 'int64')\n",
    "    # 计算准确率\n",
    "    train_acc = round(accuracy_score(train_label, y_pred),3)\n",
    "    \n",
    "    # print('测试集准确率:', round(accuracy_score(val_label, y_pred),3))\n",
    "    acc_list.append(acc)\n",
    "    train_acc_list.append(train_acc)\n",
    "    \n",
    "    # 计算损失值\n",
    "    # 使用one-hot编码计算损失值\n",
    "    noe_hot = OneHotEncoder(sparse = False)\n",
    "\n",
    "    y_pred_o = noe_hot.fit_transform(y_pred.reshape(1, -1))\n",
    "    val_label_o = noe_hot.fit_transform(val_label.reshape(1, -1))\n",
    "    # loss = round(log_loss(val_label_o,y_pred_o),3)\n",
    "    # print(\"loss：\",round(log_loss(val_label,y_pred),3))\n",
    "    # loss_list.append(loss)\n",
    "    print(\"完成第\",i,\"轮训练，测试集准确率：\",acc)\n",
    "    sum += acc\n",
    "print(\"平均准确率：\", sum / i)"
   ]
  },
  {
   "cell_type": "code",
   "execution_count": 8,
   "id": "3cb41199",
   "metadata": {
    "ExecuteTime": {
     "end_time": "2022-05-21T08:21:52.631605Z",
     "start_time": "2022-05-21T08:21:52.593339Z"
    },
    "scrolled": true
   },
   "outputs": [
    {
     "name": "stdout",
     "output_type": "stream",
     "text": [
      "------------------测试集上得分：------------------------\n",
      "*****\n",
      "测试集准确率得分: 0.824\n",
      "*****\n",
      "准确率、召回率、f1-值测试报告如下:\n",
      "               precision    recall  f1-score   support\n",
      "\n",
      "           0       0.97      0.93      0.95       261\n",
      "           1       0.89      0.67      0.76       275\n",
      "           2       0.98      0.97      0.98       279\n",
      "           3       0.73      0.92      0.82       253\n",
      "           4       0.95      0.97      0.96       277\n",
      "           5       0.63      0.72      0.67       273\n",
      "           6       0.66      0.58      0.62       272\n",
      "\n",
      "    accuracy                           0.82      1890\n",
      "   macro avg       0.83      0.82      0.82      1890\n",
      "weighted avg       0.83      0.82      0.82      1890\n",
      "\n"
     ]
    }
   ],
   "source": [
    "y_pred = np.asarray(rfc.predict(m_val),dtype = 'int64')\n",
    "print('------------------测试集上得分：------------------------')\n",
    "print('*' * 5)\n",
    "print('测试集准确率得分:', round(accuracy_score(val_label, y_pred),3))\n",
    "print('*' * 5)\n",
    "print('准确率、召回率、f1-值测试报告如下:\\n', classification_report(val_label, y_pred))"
   ]
  },
  {
   "cell_type": "markdown",
   "id": "cdb2197a",
   "metadata": {},
   "source": [
    "## 模型迭代准确率"
   ]
  },
  {
   "cell_type": "code",
   "execution_count": 9,
   "id": "0203139d",
   "metadata": {
    "ExecuteTime": {
     "end_time": "2022-05-21T08:21:52.745175Z",
     "start_time": "2022-05-21T08:21:52.632558Z"
    }
   },
   "outputs": [
    {
     "data": {
      "image/png": "[encoded data removed]",
      "text/plain": [
       "<Figure size 432x288 with 1 Axes>"
      ]
     },
     "metadata": {
      "needs_background": "light"
     },
     "output_type": "display_data"
    }
   ],
   "source": [
    "# 设置Y轴范围\n",
    "plt.ylim(0,1)\n",
    "# 训练准确率曲线\n",
    "show_data1 = train_acc_list\n",
    "# 测试准确率曲线\n",
    "show_data2 = acc_list\n",
    "x_data = list(range(1,len(show_data1)+1))\n",
    "ln1, = plt.plot(x_data,show_data1,color='blue',linewidth=2.0,linestyle='--')\n",
    "ln2, = plt.plot(x_data,show_data2,color='red',linewidth=3.0,linestyle='-.')\n",
    "plt.legend(handles=[ln1,ln2],labels=['train_acc','val_acc'])\n",
    "plt.show()"
   ]
  },
  {
   "cell_type": "code",
   "execution_count": 10,
   "id": "bd3adbab",
   "metadata": {
    "ExecuteTime": {
     "end_time": "2022-05-21T08:21:52.834499Z",
     "start_time": "2022-05-21T08:21:52.747336Z"
    }
   },
   "outputs": [
    {
     "data": {
      "text/plain": [
       "['models_save/rfc.joblib']"
      ]
     },
     "execution_count": 10,
     "metadata": {},
     "output_type": "execute_result"
    }
   ],
   "source": [
    "from joblib import dump, load\n",
    "# 保存模型\n",
    "dump(rfc, 'models_save/rfc.joblib') \n",
    "# # 加载\n",
    "# rfc = load('models_save/rfc.joblib')\n",
    "# print(rfc)"
   ]
  },
  {
   "cell_type": "markdown",
   "id": "daddfd4e",
   "metadata": {},
   "source": [
    "# CNN"
   ]
  },
  {
   "cell_type": "code",
   "execution_count": 11,
   "id": "11199c46",
   "metadata": {
    "ExecuteTime": {
     "end_time": "2022-05-21T08:21:52.890195Z",
     "start_time": "2022-05-21T08:21:52.835517Z"
    },
    "scrolled": true
   },
   "outputs": [
    {
     "name": "stdout",
     "output_type": "stream",
     "text": [
      "[]\n"
     ]
    }
   ],
   "source": [
    "from tensorflow import keras\n",
    "from tensorflow.keras import layers, models\n",
    "# 查看GPU是否可用\n",
    "print(tf.config.list_physical_devices('GPU'))"
   ]
  },
  {
   "cell_type": "code",
   "execution_count": 12,
   "id": "79e10409",
   "metadata": {
    "ExecuteTime": {
     "end_time": "2022-05-21T08:21:52.948139Z",
     "start_time": "2022-05-21T08:21:52.891522Z"
    }
   },
   "outputs": [
    {
     "name": "stdout",
     "output_type": "stream",
     "text": [
      "[name: \"/device:CPU:0\"\n",
      "device_type: \"CPU\"\n",
      "memory_limit: 268435456\n",
      "locality {\n",
      "}\n",
      "incarnation: 8604093630371918295\n",
      "xla_global_id: -1\n",
      "]\n"
     ]
    }
   ],
   "source": [
    "from tensorflow.python.client import device_lib\n",
    "print(device_lib.list_local_devices())"
   ]
  },
  {
   "cell_type": "code",
   "execution_count": 13,
   "id": "7bc3b63c",
   "metadata": {
    "ExecuteTime": {
     "end_time": "2022-05-21T08:21:52.953148Z",
     "start_time": "2022-05-21T08:21:52.949289Z"
    }
   },
   "outputs": [],
   "source": [
    "def cnn_create():\n",
    "    loss = 'sparse_categorical_crossentropy'\n",
    "    metrics = ['acc']\n",
    "    inputs = keras.Input(shape=(1000, 3))\n",
    "    x = layers.Conv1D(64, 3, activation='relu')(inputs)\n",
    "    x = layers.MaxPooling1D(16)(x)\n",
    "    # 全局平均池化GAP层\n",
    "    x = layers.GlobalAveragePooling1D()(x)\n",
    "    # 几个密集分类层\n",
    "    x = layers.Dense(32, activation='relu')(x)\n",
    "    # 退出层\n",
    "    x = layers.Dropout(0.5)(x)\n",
    "    outputs = layers.Dense(label_count, activation='softmax')(x)\n",
    "    model = keras.Model(inputs, outputs)\n",
    "    model.compile(optimizer=keras.optimizers.Adam(0.001),\n",
    "                  loss=loss,\n",
    "                  metrics=metrics)\n",
    "    print(\"实例化模型成功，参数如下：\")\n",
    "    print(model.summary())\n",
    "    return model"
   ]
  },
  {
   "cell_type": "code",
   "execution_count": 14,
   "id": "9d590845",
   "metadata": {
    "ExecuteTime": {
     "end_time": "2022-05-21T08:21:53.002674Z",
     "start_time": "2022-05-21T08:21:52.954170Z"
    },
    "scrolled": false
   },
   "outputs": [
    {
     "name": "stdout",
     "output_type": "stream",
     "text": [
      "实例化模型成功，参数如下：\n",
      "Model: \"model\"\n",
      "_________________________________________________________________\n",
      " Layer (type)                Output Shape              Param #   \n",
      "=================================================================\n",
      " input_1 (InputLayer)        [(None, 1000, 3)]         0         \n",
      "                                                                 \n",
      " conv1d (Conv1D)             (None, 998, 64)           640       \n",
      "                                                                 \n",
      " max_pooling1d (MaxPooling1D  (None, 62, 64)           0         \n",
      " )                                                               \n",
      "                                                                 \n",
      " global_average_pooling1d (G  (None, 64)               0         \n",
      " lobalAveragePooling1D)                                          \n",
      "                                                                 \n",
      " dense (Dense)               (None, 32)                2080      \n",
      "                                                                 \n",
      " dropout (Dropout)           (None, 32)                0         \n",
      "                                                                 \n",
      " dense_1 (Dense)             (None, 7)                 231       \n",
      "                                                                 \n",
      "=================================================================\n",
      "Total params: 2,951\n",
      "Trainable params: 2,951\n",
      "Non-trainable params: 0\n",
      "_________________________________________________________________\n",
      "None\n"
     ]
    }
   ],
   "source": [
    "# 实例化模型\n",
    "cnn_model = cnn_create()\n",
    "\n",
    "# 设置模型log输出地址\n",
    "log_dir = os.path.join(\"logs/CNN\")\n",
    "if not os.path.exists(log_dir):\n",
    "    os.mkdir(log_dir)"
   ]
  },
  {
   "cell_type": "code",
   "execution_count": 15,
   "id": "90e0319a",
   "metadata": {
    "ExecuteTime": {
     "end_time": "2022-05-21T08:22:15.035448Z",
     "start_time": "2022-05-21T08:21:53.003730Z"
    },
    "scrolled": true
   },
   "outputs": [
    {
     "name": "stdout",
     "output_type": "stream",
     "text": [
      "Epoch 1/20\n",
      "125/125 [==============================] - 2s 9ms/step - loss: 1.9299 - acc: 0.1872 - val_loss: 1.9091 - val_acc: 0.3016\n",
      "Epoch 2/20\n",
      "125/125 [==============================] - 1s 9ms/step - loss: 1.8796 - acc: 0.2721 - val_loss: 1.8223 - val_acc: 0.6213\n",
      "Epoch 3/20\n",
      "125/125 [==============================] - 1s 9ms/step - loss: 1.7518 - acc: 0.3714 - val_loss: 1.6181 - val_acc: 0.5964\n",
      "Epoch 4/20\n",
      "125/125 [==============================] - 1s 9ms/step - loss: 1.5461 - acc: 0.4245 - val_loss: 1.3662 - val_acc: 0.4943\n",
      "Epoch 5/20\n",
      "125/125 [==============================] - 1s 9ms/step - loss: 1.3638 - acc: 0.4777 - val_loss: 1.1862 - val_acc: 0.6757\n",
      "Epoch 6/20\n",
      "125/125 [==============================] - 1s 9ms/step - loss: 1.2481 - acc: 0.5094 - val_loss: 1.0474 - val_acc: 0.8413\n",
      "Epoch 7/20\n",
      "125/125 [==============================] - 1s 9ms/step - loss: 1.1138 - acc: 0.5835 - val_loss: 0.9305 - val_acc: 0.8390\n",
      "Epoch 8/20\n",
      "125/125 [==============================] - 1s 9ms/step - loss: 1.0278 - acc: 0.6064 - val_loss: 0.8141 - val_acc: 0.9864\n",
      "Epoch 9/20\n",
      "125/125 [==============================] - 1s 9ms/step - loss: 0.9484 - acc: 0.6382 - val_loss: 0.7208 - val_acc: 0.8435\n",
      "Epoch 10/20\n",
      "125/125 [==============================] - 1s 8ms/step - loss: 0.8596 - acc: 0.6793 - val_loss: 0.6396 - val_acc: 0.8821\n",
      "Epoch 11/20\n",
      "125/125 [==============================] - 1s 8ms/step - loss: 0.8045 - acc: 0.6982 - val_loss: 0.5683 - val_acc: 0.9841\n",
      "Epoch 12/20\n",
      "125/125 [==============================] - 1s 8ms/step - loss: 0.7400 - acc: 0.7213 - val_loss: 0.5182 - val_acc: 0.9229\n",
      "Epoch 13/20\n",
      "125/125 [==============================] - 1s 8ms/step - loss: 0.7098 - acc: 0.7264 - val_loss: 0.4793 - val_acc: 0.9252\n",
      "Epoch 14/20\n",
      "125/125 [==============================] - 1s 8ms/step - loss: 0.6587 - acc: 0.7475 - val_loss: 0.4258 - val_acc: 0.9093\n",
      "Epoch 15/20\n",
      "125/125 [==============================] - 1s 8ms/step - loss: 0.6327 - acc: 0.7460 - val_loss: 0.3927 - val_acc: 0.8866\n",
      "Epoch 16/20\n",
      "125/125 [==============================] - 1s 8ms/step - loss: 0.6026 - acc: 0.7639 - val_loss: 0.3641 - val_acc: 0.9002\n",
      "Epoch 17/20\n",
      "125/125 [==============================] - 1s 8ms/step - loss: 0.5709 - acc: 0.7682 - val_loss: 0.3754 - val_acc: 0.9501\n",
      "Epoch 18/20\n",
      "125/125 [==============================] - 1s 8ms/step - loss: 0.5748 - acc: 0.7715 - val_loss: 0.3260 - val_acc: 0.9161\n",
      "Epoch 19/20\n",
      "125/125 [==============================] - 1s 8ms/step - loss: 0.5329 - acc: 0.7987 - val_loss: 0.3020 - val_acc: 0.9864\n",
      "Epoch 20/20\n",
      "125/125 [==============================] - 1s 8ms/step - loss: 0.5325 - acc: 0.7906 - val_loss: 0.2946 - val_acc: 0.9728\n"
     ]
    }
   ],
   "source": [
    "# 模型训练\n",
    "tensorboard_callback = tf.keras.callbacks.TensorBoard(log_dir=log_dir, histogram_freq=1)\n",
    "history = cnn_model.fit(train_data, train_label,epochs=20, batch_size=32, validation_split=0.1,callbacks=[tensorboard_callback])"
   ]
  },
  {
   "cell_type": "code",
   "execution_count": 16,
   "id": "ee1f831a",
   "metadata": {
    "ExecuteTime": {
     "end_time": "2022-05-21T08:22:15.330326Z",
     "start_time": "2022-05-21T08:22:15.036920Z"
    }
   },
   "outputs": [
    {
     "name": "stdout",
     "output_type": "stream",
     "text": [
      "*****完成预处理，进行模型评估*****\n",
      "60/60 [==============================] - 0s 3ms/step\n"
     ]
    }
   ],
   "source": [
    "from sklearn.metrics import roc_curve,roc_auc_score,classification_report,accuracy_score,log_loss\n",
    "print(\"*****完成预处理，进行模型评估*****\")\n",
    "y_pred = cnn_model.predict(val_data)\n",
    "y_pred = [np.argmax(x) for x in y_pred]"
   ]
  },
  {
   "cell_type": "code",
   "execution_count": 17,
   "id": "08c266e3",
   "metadata": {
    "ExecuteTime": {
     "end_time": "2022-05-21T08:22:15.340812Z",
     "start_time": "2022-05-21T08:22:15.331595Z"
    },
    "scrolled": false
   },
   "outputs": [
    {
     "name": "stdout",
     "output_type": "stream",
     "text": [
      "------------------测试集上得分：------------------------\n",
      "*****\n",
      "测试集准确率得分: 0.971958\n",
      "*****\n",
      "准确率、召回率、f1-值测试报告如下:\n",
      "               precision    recall  f1-score   support\n",
      "\n",
      "           0       1.00      1.00      1.00       261\n",
      "           1       1.00      1.00      1.00       275\n",
      "           2       1.00      1.00      1.00       279\n",
      "           3       1.00      1.00      1.00       253\n",
      "           4       1.00      1.00      1.00       277\n",
      "           5       0.97      0.83      0.90       273\n",
      "           6       0.85      0.98      0.91       272\n",
      "\n",
      "    accuracy                           0.97      1890\n",
      "   macro avg       0.97      0.97      0.97      1890\n",
      "weighted avg       0.97      0.97      0.97      1890\n",
      "\n"
     ]
    }
   ],
   "source": [
    "print('------------------测试集上得分：------------------------')\n",
    "print('*' * 5)\n",
    "print('测试集准确率得分:', round(accuracy_score(val_label, y_pred),6))\n",
    "print('*' * 5)\n",
    "print('准确率、召回率、f1-值测试报告如下:\\n', classification_report(val_label, y_pred))"
   ]
  },
  {
   "cell_type": "code",
   "execution_count": 18,
   "id": "a12e5fce",
   "metadata": {
    "ExecuteTime": {
     "end_time": "2022-05-21T08:22:15.441663Z",
     "start_time": "2022-05-21T08:22:15.341977Z"
    }
   },
   "outputs": [
    {
     "data": {
      "image/png": "[encoded data removed]",
      "text/plain": [
       "<Figure size 432x288 with 1 Axes>"
      ]
     },
     "metadata": {
      "needs_background": "light"
     },
     "output_type": "display_data"
    }
   ],
   "source": [
    "# 设置Y轴范围\n",
    "plt.ylim(0,1)\n",
    "# 训练准确率曲线\n",
    "show_data1 = history.history['acc']\n",
    "# 测试准确率曲线\n",
    "show_data2 = history.history['val_acc']\n",
    "x_data = list(range(1,len(show_data1)+1))\n",
    "ln1, = plt.plot(x_data,show_data1,color='blue',linewidth=2.0,linestyle='--')\n",
    "ln2, = plt.plot(x_data,show_data2,color='red',linewidth=3.0,linestyle='-.')\n",
    "plt.legend(handles=[ln1,ln2],labels=['train_acc','val_acc'])\n",
    "plt.show()"
   ]
  }
 ],
 "metadata": {
  "kernelspec": {
   "display_name": "Python 3 (ipykernel)",
   "language": "python",
   "name": "python3"
  },
  "language_info": {
   "codemirror_mode": {
    "name": "ipython",
    "version": 3
   },
   "file_extension": ".py",
   "mimetype": "text/x-python",
   "name": "python",
   "nbconvert_exporter": "python",
   "pygments_lexer": "ipython3",
   "version": "3.8.13"
  }
 },
 "nbformat": 4,
 "nbformat_minor": 5
}
