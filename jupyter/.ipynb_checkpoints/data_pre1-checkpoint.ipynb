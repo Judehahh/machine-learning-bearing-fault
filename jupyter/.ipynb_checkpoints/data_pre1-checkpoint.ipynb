{
 "cells": [
  {
   "cell_type": "code",
   "execution_count": 1,
   "id": "538320d2",
   "metadata": {},
   "outputs": [],
   "source": [
    "from scipy.io import loadmat\n",
    "import matplotlib.pyplot as plt\n",
    "from sklearn.preprocessing import MinMaxScaler\n",
    "import numpy as np\n",
    "from collections import Counter\n",
    "from PyEMD import EEMD, EMD, Visualisation"
   ]
  },
  {
   "cell_type": "code",
   "execution_count": 2,
   "id": "6e3912bf",
   "metadata": {},
   "outputs": [],
   "source": [
    "# 定义数据分布展示\n",
    "\n",
    "def show_plot(data,show_num):\n",
    "    data_list = []\n",
    "    for a in data[:show_num]:\n",
    "        data_list.append(a)#append函数会在数组后加上相应的元素\n",
    "    return data_list"
   ]
  },
  {
   "cell_type": "code",
   "execution_count": 3,
   "id": "dbca2624",
   "metadata": {
    "scrolled": true
   },
   "outputs": [],
   "source": [
    "data = loadmat('data/1-bearingfault_JSQ1-2000rpm-50Nm.mat')"
   ]
  },
  {
   "cell_type": "code",
   "execution_count": 4,
   "id": "3bb2c3ef",
   "metadata": {
    "scrolled": false
   },
   "outputs": [
    {
     "data": {
      "text/plain": [
       "array([[-25.97119522],\n",
       "       [  7.54699087],\n",
       "       [ 16.44652939],\n",
       "       ...,\n",
       "       [ -3.33022332],\n",
       "       [ -1.59123302],\n",
       "       [ 23.52751732]])"
      ]
     },
     "execution_count": 4,
     "metadata": {},
     "output_type": "execute_result"
    }
   ],
   "source": [
    "data1 = data['data'][:,0]\n",
    "data1_reshape = data1.reshape(len(data1),1)\n",
    "data1_reshape"
   ]
  },
  {
   "cell_type": "code",
   "execution_count": 5,
   "id": "0d3383ab",
   "metadata": {
    "scrolled": true
   },
   "outputs": [
    {
     "name": "stdout",
     "output_type": "stream",
     "text": [
      "标准数据长度： 960000\n"
     ]
    },
    {
     "data": {
      "text/plain": [
       "[<matplotlib.lines.Line2D at 0x260eba06d30>]"
      ]
     },
     "execution_count": 5,
     "metadata": {},
     "output_type": "execute_result"
    },
    {
     "data": {
      "image/png": "[encoded data removed]",
      "text/plain": [
       "<Figure size 432x288 with 1 Axes>"
      ]
     },
     "metadata": {
      "needs_background": "light"
     },
     "output_type": "display_data"
    }
   ],
   "source": [
    "print('标准数据长度：',len(data1_reshape))\n",
    "plt.ylim(-100,100)\n",
    "show_x = show_plot(data1_reshape,1000)\n",
    "x = range(len(show_x))\n",
    "plt.plot(x,show_x)"
   ]
  },
  {
   "cell_type": "code",
   "execution_count": 6,
   "id": "d62ed5d9",
   "metadata": {},
   "outputs": [
    {
     "data": {
      "text/plain": [
       "(960000,)"
      ]
     },
     "execution_count": 6,
     "metadata": {},
     "output_type": "execute_result"
    }
   ],
   "source": [
    "data1.shape"
   ]
  },
  {
   "cell_type": "code",
   "execution_count": null,
   "id": "a2288245",
   "metadata": {
    "scrolled": true
   },
   "outputs": [],
   "source": [
    "#EMD处理\n",
    "emd = EMD()\n",
    "emd.emd(data1[0:500000])\n",
    "imfs, res = emd.get_imfs_and_residue()\n",
    "# 绘制 IMF\n",
    "vis = Visualisation()\n",
    "vis.plot_imfs(imfs=imfs, residue=res, t=range(500000), include_residue=True)"
   ]
  },
  {
   "cell_type": "code",
   "execution_count": null,
   "id": "25fdd7e7",
   "metadata": {},
   "outputs": [],
   "source": [
    "imfs.shape"
   ]
  },
  {
   "cell_type": "markdown",
   "id": "11334479",
   "metadata": {},
   "source": [
    "# 数据预处理"
   ]
  },
  {
   "cell_type": "code",
   "execution_count": null,
   "id": "0cc6e497",
   "metadata": {},
   "outputs": [],
   "source": [
    "# 定义样本分割函数\n",
    "def data_load(path,cut_num,label):\n",
    "    \"\"\"\n",
    "    path：数据地址\n",
    "    cut_num：每份样本数量\n",
    "    label:数据标签\n",
    "    \"\"\"\n",
    "    \n",
    "    data = loadmat(path)\n",
    "    # 返回list\n",
    "    list_r = []\n",
    "    # 原始数据\n",
    "    org_X = data['data'][:,3]\n",
    "    org_X = org_X.reshape(len(org_X),1)\n",
    "    org_Y = data['data'][:,4]\n",
    "    org_Y = org_Y.reshape(len(org_Y),1)\n",
    "    org_Z = data['data'][:,5]\n",
    "    org_Z = org_Z.reshape(len(org_Z),1)\n",
    "\n",
    "    # 数据归一化\n",
    "    # 归一化X\n",
    "    scaler = MinMaxScaler()\n",
    "#     scaler.fit(list_X)\n",
    "    list_X_n = scaler.fit_transform(org_X)\n",
    "    # 归一化Y\n",
    "    scaler = MinMaxScaler()\n",
    "#     scaler.fit(list_Y)\n",
    "    list_Y_n = scaler.fit_transform(org_Y)\n",
    "    # 归一化Z\n",
    "    scaler = MinMaxScaler()\n",
    "#     scaler.fit(list_Y)\n",
    "    list_Z_n = scaler.fit_transform(org_Z)\n",
    "    \n",
    "    # 构建一维数组\n",
    "    list_X = []\n",
    "    for x in list_X_n:\n",
    "        list_X.append(x[0])\n",
    "        \n",
    "    list_Y = []\n",
    "    for y in list_Y_n:\n",
    "        list_Y.append(y[0])\n",
    "\n",
    "    list_Z = []\n",
    "    for z in list_Z_n:\n",
    "        list_Z.append(z[0])\n",
    "        \n",
    "    # 将x，y, z数据放入list\n",
    "    for x,y,z in zip(list_X,list_Y,list_Z):\n",
    "        list_r.append([x,y,z])\n",
    "    \n",
    "    data_cut = []\n",
    "    label_cut = []\n",
    "    \n",
    "    # 分割数据\n",
    "    for i in range(0,int(len(list_X_n)/cut_num)):\n",
    "        data_cut.append(list_r[i * cut_num : (i+1) * cut_num])\n",
    "        label_cut.append(label)\n",
    "    return data_cut,label_cut"
   ]
  },
  {
   "cell_type": "markdown",
   "id": "f21269c3",
   "metadata": {},
   "source": [
    "## 正常轴承"
   ]
  },
  {
   "cell_type": "code",
   "execution_count": null,
   "id": "357f39a2",
   "metadata": {},
   "outputs": [],
   "source": [
    "data_0,label_0 = data_load('data/5-normal1-2000rpm-50Nm.mat',1000,0)"
   ]
  },
  {
   "cell_type": "code",
   "execution_count": null,
   "id": "af60a7f4",
   "metadata": {
    "scrolled": false
   },
   "outputs": [],
   "source": [
    "# 设置Y轴范围\n",
    "plt.ylim(0,1)\n",
    "show_x = data_0[0]\n",
    "x = range(len(show_x))\n",
    "plt.plot(x,show_x)"
   ]
  },
  {
   "cell_type": "code",
   "execution_count": null,
   "id": "fe7f9cdd",
   "metadata": {
    "scrolled": false
   },
   "outputs": [],
   "source": [
    "data_normal = data_0\n",
    "label_normal = label_0\n",
    "print(\"处理后正常样本shape：\",np.asarray(data_normal,dtype = 'float').shape)\n",
    "print(\"label数：\",len(label_normal))"
   ]
  },
  {
   "cell_type": "markdown",
   "id": "f53e403a",
   "metadata": {},
   "source": [
    "## 输入轴减速器端轴承内滚道故障 2000rpm"
   ]
  },
  {
   "cell_type": "code",
   "execution_count": null,
   "id": "47975942",
   "metadata": {},
   "outputs": [],
   "source": [
    "data_1,label_1 = data_load('data/1-bearingfault_JSQ1-2000rpm-50Nm.mat',1000,1)"
   ]
  },
  {
   "cell_type": "code",
   "execution_count": null,
   "id": "d460bb80",
   "metadata": {
    "scrolled": false
   },
   "outputs": [],
   "source": [
    "# 设置Y轴范围\n",
    "plt.ylim(0,1)\n",
    "show_x = data_1[0]\n",
    "x = range(len(show_x))\n",
    "plt.plot(x,show_x)"
   ]
  },
  {
   "cell_type": "code",
   "execution_count": null,
   "id": "dbf63b78",
   "metadata": {},
   "outputs": [],
   "source": [
    "data_1_2000 = data_1\n",
    "label_1_2000 = label_1\n",
    "print(\"处理后内圈样本shape：\",np.asarray(data_1_2000,dtype = 'float').shape)\n",
    "print(\"label数：\",len(label_1_2000))"
   ]
  },
  {
   "cell_type": "markdown",
   "id": "e294ab22",
   "metadata": {},
   "source": [
    "## 输入轴减速器端轴承内滚道故障 5000rpm"
   ]
  },
  {
   "cell_type": "code",
   "execution_count": null,
   "id": "98b08184",
   "metadata": {},
   "outputs": [],
   "source": [
    "data_2,label_2 = data_load('data/1-bearingfault_JSQ1-5000rpm-50Nm.mat',1000,2)"
   ]
  },
  {
   "cell_type": "code",
   "execution_count": null,
   "id": "bed67293",
   "metadata": {},
   "outputs": [],
   "source": [
    "# 设置Y轴范围\n",
    "plt.ylim(0,1)\n",
    "show_x = data_2[0]\n",
    "x = range(len(show_x))\n",
    "plt.plot(x,show_x)"
   ]
  },
  {
   "cell_type": "code",
   "execution_count": null,
   "id": "f4f59bc1",
   "metadata": {},
   "outputs": [],
   "source": [
    "data_1_5000 = data_2\n",
    "label_1_5000 = label_2\n",
    "print(\"处理后内圈样本shape：\",np.asarray(data_1_5000,dtype = 'float').shape)\n",
    "print(\"label数：\",len(label_1_5000))"
   ]
  },
  {
   "cell_type": "markdown",
   "id": "4d76cb34",
   "metadata": {},
   "source": [
    "## 输入轴电机端轴承内滚道故障 2000rpm"
   ]
  },
  {
   "cell_type": "code",
   "execution_count": null,
   "id": "b9e7b419",
   "metadata": {},
   "outputs": [],
   "source": [
    "data_3,label_3 = data_load('data/2-bearingfault_DJ1-2000rpm-50Nm.mat',1000,3)"
   ]
  },
  {
   "cell_type": "code",
   "execution_count": null,
   "id": "4393ce34",
   "metadata": {
    "scrolled": false
   },
   "outputs": [],
   "source": [
    "# 设置Y轴范围\n",
    "plt.ylim(0,1)\n",
    "show_x = data_1[0]\n",
    "x = range(len(show_x))\n",
    "plt.plot(x,show_x)"
   ]
  },
  {
   "cell_type": "code",
   "execution_count": null,
   "id": "351a7f58",
   "metadata": {
    "scrolled": true
   },
   "outputs": [],
   "source": [
    "data_2_2000 = data_3\n",
    "label_2_2000 = label_3\n",
    "print(\"处理后内圈样本shape：\",np.asarray(data_2_2000,dtype = 'float').shape)\n",
    "print(\"label数：\",len(label_2_2000))"
   ]
  },
  {
   "cell_type": "markdown",
   "id": "4e7051df",
   "metadata": {},
   "source": [
    "## 输入轴电机端轴承内滚道故障 5000rpm"
   ]
  },
  {
   "cell_type": "code",
   "execution_count": null,
   "id": "feab91a9",
   "metadata": {},
   "outputs": [],
   "source": [
    "data_4,label_4 = data_load('data/2-bearingfault_DJ1-5000rpm-50Nm.mat',1000,4)"
   ]
  },
  {
   "cell_type": "code",
   "execution_count": null,
   "id": "68548239",
   "metadata": {},
   "outputs": [],
   "source": [
    "# 设置Y轴范围\n",
    "plt.ylim(0,1)\n",
    "show_x = data_2[0]\n",
    "x = range(len(show_x))\n",
    "plt.plot(x,show_x)"
   ]
  },
  {
   "cell_type": "code",
   "execution_count": null,
   "id": "2bb8dfbf",
   "metadata": {
    "scrolled": false
   },
   "outputs": [],
   "source": [
    "data_2_5000 = data_4\n",
    "label_2_5000 = label_4\n",
    "print(\"处理后内圈样本shape：\",np.asarray(data_2_5000,dtype = 'float').shape)\n",
    "print(\"label数：\",len(label_2_5000))"
   ]
  },
  {
   "cell_type": "markdown",
   "id": "11f0c1bd",
   "metadata": {},
   "source": [
    "## 中间轴减速器端轴承滚子故障1 2000rpm"
   ]
  },
  {
   "cell_type": "code",
   "execution_count": null,
   "id": "087902c4",
   "metadata": {},
   "outputs": [],
   "source": [
    "data_5,label_5 = data_load('data/3-bearingfault_JSQ1-2000rpm-50Nm.mat',1000,5)"
   ]
  },
  {
   "cell_type": "code",
   "execution_count": null,
   "id": "e82b61dd",
   "metadata": {
    "scrolled": false
   },
   "outputs": [],
   "source": [
    "# 设置Y轴范围\n",
    "plt.ylim(0,1)\n",
    "show_x = data_1[0]\n",
    "x = range(len(show_x))\n",
    "plt.plot(x,show_x)"
   ]
  },
  {
   "cell_type": "code",
   "execution_count": null,
   "id": "42107611",
   "metadata": {
    "scrolled": true
   },
   "outputs": [],
   "source": [
    "data_3_1 = data_5\n",
    "label_3_1 = label_5\n",
    "print(\"处理后内圈样本shape：\",np.asarray(data_3_1,dtype = 'float').shape)\n",
    "print(\"label数：\",len(label_3_1))"
   ]
  },
  {
   "cell_type": "markdown",
   "id": "dfa49af5",
   "metadata": {},
   "source": [
    "## 中间轴减速器端轴承滚子故障2 2000rpm"
   ]
  },
  {
   "cell_type": "code",
   "execution_count": null,
   "id": "3ed231be",
   "metadata": {},
   "outputs": [],
   "source": [
    "data_6,label_6 = data_load('data/3-bearingfault_JSQ2-2000rpm-50Nm.mat',1000,6)"
   ]
  },
  {
   "cell_type": "code",
   "execution_count": null,
   "id": "41de5a29",
   "metadata": {
    "scrolled": false
   },
   "outputs": [],
   "source": [
    "# 设置Y轴范围\n",
    "plt.ylim(0,1)\n",
    "show_x = data_1[0]\n",
    "x = range(len(show_x))\n",
    "plt.plot(x,show_x)"
   ]
  },
  {
   "cell_type": "code",
   "execution_count": null,
   "id": "da238dc2",
   "metadata": {
    "scrolled": true
   },
   "outputs": [],
   "source": [
    "data_3_2 = data_6\n",
    "label_3_2 = label_6\n",
    "print(\"处理后内圈样本shape：\",np.asarray(data_3_2,dtype = 'float').shape)\n",
    "print(\"label数：\",len(label_3_2))"
   ]
  },
  {
   "cell_type": "markdown",
   "id": "e91fe056",
   "metadata": {},
   "source": [
    "## 保存处理后的数据"
   ]
  },
  {
   "cell_type": "code",
   "execution_count": null,
   "id": "442e4479",
   "metadata": {
    "scrolled": false
   },
   "outputs": [],
   "source": [
    "data_train = np.asarray(data_normal[:900] + data_1_2000[:900] + data_1_5000[:900] + data_2_2000[:900] + data_2_5000[:900] + data_3_1[:900] + data_3_2[:900],dtype = 'float64')\n",
    "label = np.asarray(label_normal[:900] + label_1_2000[:900] + label_1_5000[:900] + label_2_2000[:900] + label_2_5000[:900] + label_3_1[:900] + label_3_2[:900],dtype = 'int64')\n",
    "\n",
    "print(\"处理后样本shape：\",data_train.shape)\n",
    "print(\"处理后数据类别分布：\",Counter(label))\n",
    "\n",
    "# 保存数据\n",
    "np.save(\"train_data/train_data.npy\",data_train)\n",
    "np.save(\"train_data/label.npy\",label)\n",
    "print(\"数据保存成功，位置：/train_data/\")"
   ]
  },
  {
   "cell_type": "code",
   "execution_count": null,
   "id": "b2929b44",
   "metadata": {},
   "outputs": [],
   "source": [
    "data_0.shape"
   ]
  },
  {
   "cell_type": "code",
   "execution_count": null,
   "id": "8ed9a3ec",
   "metadata": {},
   "outputs": [],
   "source": [
    "'''\n",
    "#EEMD处理\n",
    "eemd = EEMD()\n",
    "eemd.eemd(data1)\n",
    "imfs, res = eemd.get_imfs_and_residue()\n",
    "# 绘制 IMF\n",
    "vis = Visualisation()\n",
    "vis.plot_imfs(imfs=imfs, residue=res, t=range(len(data1)), include_residue=True)"
   ]
  }
 ],
 "metadata": {
  "kernelspec": {
   "display_name": "Python 3 (ipykernel)",
   "language": "python",
   "name": "python3"
  },
  "language_info": {
   "codemirror_mode": {
    "name": "ipython",
    "version": 3
   },
   "file_extension": ".py",
   "mimetype": "text/x-python",
   "name": "python",
   "nbconvert_exporter": "python",
   "pygments_lexer": "ipython3",
   "version": "3.9.7"
  }
 },
 "nbformat": 4,
 "nbformat_minor": 5
}
