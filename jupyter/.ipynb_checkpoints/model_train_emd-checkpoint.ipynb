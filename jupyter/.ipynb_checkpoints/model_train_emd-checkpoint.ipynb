{
 "cells": [
  {
   "cell_type": "code",
   "execution_count": 1,
   "id": "7444bb02",
   "metadata": {},
   "outputs": [],
   "source": [
    "import os\n",
    "import matplotlib.pyplot as plt\n",
    "from collections import Counter\n",
    "import numpy as np\n",
    "import tensorflow as tf"
   ]
  },
  {
   "cell_type": "code",
   "execution_count": 2,
   "id": "b6283d01",
   "metadata": {},
   "outputs": [],
   "source": [
    "def load_data():\n",
    "    # 读取数据\n",
    "    x = np.load('train_data/train_data_emd.npy')\n",
    "    y = np.load('train_data/label_emd.npy')\n",
    "    num = len(Counter(y))\n",
    "    print(\"类别数量为：\", num)\n",
    "    return x, y, num"
   ]
  },
  {
   "cell_type": "code",
   "execution_count": 3,
   "id": "93132586",
   "metadata": {},
   "outputs": [],
   "source": [
    "def create_train_data(x, y, ratio=0.8):\n",
    "    \"\"\"\n",
    "    x:数据\n",
    "    y:类别\n",
    "    ratio:生成训练集比率\n",
    "    \"\"\"\n",
    "    # 打乱顺序\n",
    "    # 读取data矩阵的第一维数（图片的个数）\n",
    "    num_example = x.shape[0]\n",
    "    # 产生一个num_example范围，步长为1的序列\n",
    "    arr = np.arange(num_example)\n",
    "    # 调用函数，打乱顺序\n",
    "    np.random.seed(99)\n",
    "    np.random.shuffle(arr)\n",
    "    # 按照打乱的顺序，重新排序\n",
    "    arr_data = x[arr]\n",
    "    arr_label = y[arr]\n",
    "    # 将数据集分为训练集80%、测试集20%\n",
    "    s = int(num_example * ratio)\n",
    "    x_train = arr_data[:s]\n",
    "    y_train = arr_label[:s]\n",
    "    x_val = arr_data[s:]\n",
    "    y_val = arr_label[s:]\n",
    "    print(\"训练集shape\", x_train.shape)\n",
    "    print(\"训练集类别：\", Counter(y_train))\n",
    "    print(\"测试集shape\", x_val.shape)\n",
    "    print(\"测试集类别：\", Counter(y_val))\n",
    "    return x_train, y_train, x_val, y_val"
   ]
  },
  {
   "cell_type": "code",
   "execution_count": 4,
   "id": "90ca68e6",
   "metadata": {
    "scrolled": false
   },
   "outputs": [
    {
     "name": "stdout",
     "output_type": "stream",
     "text": [
      "类别数量为： 7\n",
      "训练集shape (4410, 1000, 1)\n",
      "训练集类别： Counter({3: 647, 0: 639, 6: 628, 5: 627, 1: 625, 4: 623, 2: 621})\n",
      "测试集shape (1890, 1000, 1)\n",
      "测试集类别： Counter({2: 279, 4: 277, 1: 275, 5: 273, 6: 272, 0: 261, 3: 253})\n",
      "**********\n",
      "训练集数量： 4410\n",
      "测试集数量： 1890\n"
     ]
    }
   ],
   "source": [
    "# 读取数据\n",
    "data, label, label_count = load_data()\n",
    "# 生成训练集测试集,70%用作训练，30%用作测试\n",
    "train_data, train_label, val_data, val_label = create_train_data(data, label, 0.7)\n",
    "print(\"*\"*10)\n",
    "print(\"训练集数量：\",len(train_label))\n",
    "print(\"测试集数量：\",len(val_label))"
   ]
  },
  {
   "cell_type": "markdown",
   "id": "712b2998",
   "metadata": {},
   "source": [
    "## 随机森林"
   ]
  },
  {
   "cell_type": "code",
   "execution_count": 5,
   "id": "c9f54f4c",
   "metadata": {},
   "outputs": [],
   "source": [
    "# 使用机器学习算法需要对多维数据进行降维\n",
    "m_train = train_data.reshape(train_data.shape[0],train_data.shape[1]*train_data.shape[2])\n",
    "m_val = val_data.reshape(val_data.shape[0],val_data.shape[1]*val_data.shape[2])\n",
    "\n",
    "# 设置训练迭代次数\n",
    "epoch = 20"
   ]
  },
  {
   "cell_type": "code",
   "execution_count": 6,
   "id": "5f901037",
   "metadata": {},
   "outputs": [],
   "source": [
    "from sklearn.ensemble import RandomForestClassifier\n",
    "from sklearn.metrics import roc_curve,roc_auc_score,classification_report,accuracy_score,log_loss\n",
    "from sklearn.model_selection import GridSearchCV,train_test_split\n",
    "from sklearn import model_selection\n",
    "from sklearn.preprocessing import  OneHotEncoder"
   ]
  },
  {
   "cell_type": "code",
   "execution_count": null,
   "id": "6ab1b8ae",
   "metadata": {
    "scrolled": true
   },
   "outputs": [
    {
     "name": "stdout",
     "output_type": "stream",
     "text": [
      "开始训练\n",
      "完成第 1 轮训练，测试集准确率： 0.606\n",
      "完成第 2 轮训练，测试集准确率： 0.593\n",
      "完成第 3 轮训练，测试集准确率： 0.625\n",
      "完成第 4 轮训练，测试集准确率： 0.602\n",
      "完成第 5 轮训练，测试集准确率： 0.585\n",
      "完成第 6 轮训练，测试集准确率： 0.61\n",
      "完成第 7 轮训练，测试集准确率： 0.595\n"
     ]
    }
   ],
   "source": [
    "# 模型参数设置\n",
    "'''\n",
    "第一类：\n",
    "n_estimators：学习器的个数，interger，默认100\n",
    "bootstrap：是否有放回抽样，boolean，默认True\n",
    "第二类：\n",
    "max_features：节点分裂时参与判断的最大特征数，默认auto，即sqrt(n_features)\n",
    "max_depth：树的最大深度，int或None，默认None，表示对最大深度没有限制\n",
    "min_samples_split：最小样本划分的数目，\n",
    "min_samples_leaf：叶子节点最少样本数\n",
    "'''\n",
    "\n",
    "rfc = RandomForestClassifier(n_estimators = 100,min_samples_split = 5,min_samples_leaf = 4,max_depth = 5)\n",
    "\n",
    "# 模型准确率和损失值\n",
    "sum = 0\n",
    "acc_list = []\n",
    "loss_list = []\n",
    "train_acc_list = []\n",
    "print(\"开始训练\")\n",
    "for i in range(1,epoch +1):\n",
    "\n",
    "    # 模型训练\n",
    "    rfc.fit(m_train,train_label)\n",
    "\n",
    "    # # 训练集\n",
    "    # y_train = rfc.predict(m_train)\n",
    "\n",
    "    # 测试集\n",
    "    y_pred = np.asarray(rfc.predict(m_val),dtype = 'int64')\n",
    "\n",
    "    # 计算准确率\n",
    "    acc = round(accuracy_score(val_label, y_pred),3)\n",
    "    \n",
    "    # 训练集\n",
    "    y_pred = np.asarray(rfc.predict(m_train),dtype = 'int64')\n",
    "    # 计算准确率\n",
    "    train_acc = round(accuracy_score(train_label, y_pred),3)\n",
    "    \n",
    "    # print('测试集准确率:', round(accuracy_score(val_label, y_pred),3))\n",
    "    acc_list.append(acc)\n",
    "    train_acc_list.append(train_acc)\n",
    "    \n",
    "    # 计算损失值\n",
    "    # 使用one-hot编码计算损失值\n",
    "    noe_hot = OneHotEncoder(sparse = False)\n",
    "\n",
    "    y_pred_o = noe_hot.fit_transform(y_pred.reshape(1, -1))\n",
    "    val_label_o = noe_hot.fit_transform(val_label.reshape(1, -1))\n",
    "#     loss = round(log_loss(val_label_o,y_pred_o),3)\n",
    "    # print(\"loss：\",round(log_loss(val_label,y_pred),3))\n",
    "#     loss_list.append(loss)\n",
    "    print(\"完成第\",i,\"轮训练，测试集准确率：\",acc)\n",
    "    sum += acc\n",
    "print(\"平均准确率：\", sum / i)"
   ]
  },
  {
   "cell_type": "code",
   "execution_count": null,
   "id": "3cb41199",
   "metadata": {
    "scrolled": true
   },
   "outputs": [],
   "source": [
    "y_pred = np.asarray(rfc.predict(m_val),dtype = 'int64')\n",
    "print('------------------测试集上得分：------------------------')\n",
    "print('*' * 5)\n",
    "print('测试集准确率得分:', round(accuracy_score(val_label, y_pred),3))\n",
    "print('*' * 5)\n",
    "print('准确率、召回率、f1-值测试报告如下:\\n', classification_report(val_label, y_pred))"
   ]
  },
  {
   "cell_type": "markdown",
   "id": "cdb2197a",
   "metadata": {},
   "source": [
    "## 模型迭代准确率"
   ]
  },
  {
   "cell_type": "code",
   "execution_count": null,
   "id": "0203139d",
   "metadata": {},
   "outputs": [],
   "source": [
    "# 设置Y轴范围\n",
    "plt.ylim(0,1)\n",
    "# 训练准确率曲线\n",
    "show_data1 = train_acc_list\n",
    "# 测试准确率曲线\n",
    "show_data2 = acc_list\n",
    "x_data = list(range(1,len(show_data1)+1))\n",
    "ln1, = plt.plot(x_data,show_data1,color='blue',linewidth=2.0,linestyle='--')\n",
    "ln2, = plt.plot(x_data,show_data2,color='red',linewidth=3.0,linestyle='-.')\n",
    "plt.legend(handles=[ln1,ln2],labels=['train_acc','val_acc'])\n",
    "plt.show()"
   ]
  },
  {
   "cell_type": "code",
   "execution_count": null,
   "id": "bd3adbab",
   "metadata": {},
   "outputs": [],
   "source": [
    "from joblib import dump, load\n",
    "# 保存模型\n",
    "dump(rfc, 'models_save/rfc_emd.joblib') \n",
    "# # 加载\n",
    "# rfc = load('models_save/rfc.joblib')\n",
    "# print(rfc)"
   ]
  },
  {
   "cell_type": "markdown",
   "id": "daddfd4e",
   "metadata": {},
   "source": [
    "# CNN"
   ]
  },
  {
   "cell_type": "code",
   "execution_count": null,
   "id": "11199c46",
   "metadata": {
    "scrolled": true
   },
   "outputs": [],
   "source": [
    "from tensorflow import keras\n",
    "from tensorflow.keras import layers, models\n",
    "# 查看GPU是否可用\n",
    "print(tf.test.is_gpu_available())"
   ]
  },
  {
   "cell_type": "code",
   "execution_count": null,
   "id": "7bc3b63c",
   "metadata": {},
   "outputs": [],
   "source": [
    "def cnn_create():\n",
    "    loss = 'sparse_categorical_crossentropy'\n",
    "    metrics = ['acc']\n",
    "    inputs = keras.Input(shape=(1000, 3))\n",
    "    x = layers.Conv1D(64, 3, activation='relu')(inputs)\n",
    "    x = layers.MaxPooling1D(16)(x)\n",
    "    # 全局平均池化GAP层\n",
    "    x = layers.GlobalAveragePooling1D()(x)\n",
    "    # 几个密集分类层\n",
    "    x = layers.Dense(32, activation='relu')(x)\n",
    "    # 退出层\n",
    "    x = layers.Dropout(0.5)(x)\n",
    "    outputs = layers.Dense(label_count, activation='softmax')(x)\n",
    "    model = keras.Model(inputs, outputs)\n",
    "    model.compile(optimizer=keras.optimizers.Adam(0.001),\n",
    "                  loss=loss,\n",
    "                  metrics=metrics)\n",
    "    print(\"实例化模型成功，参数如下：\")\n",
    "    print(model.summary())\n",
    "    return model"
   ]
  },
  {
   "cell_type": "code",
   "execution_count": null,
   "id": "9d590845",
   "metadata": {
    "scrolled": false
   },
   "outputs": [],
   "source": [
    "# 实例化模型\n",
    "cnn_model = cnn_create()\n",
    "\n",
    "# 设置模型log输出地址\n",
    "log_dir = os.path.join(\"logs/CNN\")\n",
    "if not os.path.exists(log_dir):\n",
    "    os.mkdir(log_dir)"
   ]
  },
  {
   "cell_type": "code",
   "execution_count": null,
   "id": "90e0319a",
   "metadata": {
    "scrolled": true
   },
   "outputs": [],
   "source": [
    "# 模型训练\n",
    "tensorboard_callback = tf.keras.callbacks.TensorBoard(log_dir=log_dir, histogram_freq=1)\n",
    "history = cnn_model.fit(train_data, train_label,epochs=20, batch_size=32, validation_split=0.1,callbacks=[tensorboard_callback])"
   ]
  },
  {
   "cell_type": "code",
   "execution_count": null,
   "id": "ee1f831a",
   "metadata": {},
   "outputs": [],
   "source": [
    "from sklearn.metrics import roc_curve,roc_auc_score,classification_report,accuracy_score,log_loss\n",
    "print(\"*****完成预处理，进行模型评估*****\")\n",
    "y_pred = cnn_model.predict(val_data)\n",
    "y_pred = [np.argmax(x) for x in y_pred]"
   ]
  },
  {
   "cell_type": "code",
   "execution_count": null,
   "id": "08c266e3",
   "metadata": {},
   "outputs": [],
   "source": [
    "print('------------------测试集上得分：------------------------')\n",
    "print('*' * 5)\n",
    "print('测试集准确率得分:', round(accuracy_score(val_label, y_pred),6))\n",
    "print('*' * 5)\n",
    "print('准确率、召回率、f1-值测试报告如下:\\n', classification_report(val_label, y_pred))"
   ]
  },
  {
   "cell_type": "code",
   "execution_count": null,
   "id": "a12e5fce",
   "metadata": {},
   "outputs": [],
   "source": [
    "# 设置Y轴范围\n",
    "plt.ylim(0,1)\n",
    "# 训练准确率曲线\n",
    "show_data1 = history.history['acc']\n",
    "# 测试准确率曲线\n",
    "show_data2 = history.history['val_acc']\n",
    "x_data = list(range(1,len(show_data1)+1))\n",
    "ln1, = plt.plot(x_data,show_data1,color='blue',linewidth=2.0,linestyle='--')\n",
    "ln2, = plt.plot(x_data,show_data2,color='red',linewidth=3.0,linestyle='-.')\n",
    "plt.legend(handles=[ln1,ln2],labels=['train_acc','val_acc'])\n",
    "plt.show()"
   ]
  }
 ],
 "metadata": {
  "kernelspec": {
   "display_name": "Python 3 (ipykernel)",
   "language": "python",
   "name": "python3"
  },
  "language_info": {
   "codemirror_mode": {
    "name": "ipython",
    "version": 3
   },
   "file_extension": ".py",
   "mimetype": "text/x-python",
   "name": "python",
   "nbconvert_exporter": "python",
   "pygments_lexer": "ipython3",
   "version": "3.9.7"
  }
 },
 "nbformat": 4,
 "nbformat_minor": 5
}
